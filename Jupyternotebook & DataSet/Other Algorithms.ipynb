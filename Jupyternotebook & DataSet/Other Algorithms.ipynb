{
 "cells": [
  {
   "cell_type": "markdown",
   "id": "c0adb745",
   "metadata": {},
   "source": [
    "Importing Libraries"
   ]
  },
  {
   "cell_type": "code",
   "execution_count": 208,
   "id": "24fd1a3e",
   "metadata": {},
   "outputs": [],
   "source": [
    "import pandas as pd\n",
    "import numpy as np\n",
    "import seaborn as sns\n",
    "from sklearn import preprocessing\n",
    "from sklearn.metrics import r2_score\n",
    "from sklearn.metrics import mean_squared_error\n",
    "from sklearn.linear_model import LinearRegression\n",
    "from sklearn.model_selection import train_test_split\n",
    "import matplotlib.pyplot as plt\n",
    "from sklearn.preprocessing import MinMaxScaler\n",
    "from pandas import read_csv\n",
    "from keras.models import Sequential\n",
    "from keras.layers import Dense,Dropout\n",
    "from keras.wrappers.scikit_learn import KerasRegressor\n",
    "from sklearn.model_selection import cross_val_score\n",
    "from sklearn.model_selection import KFold\n",
    "from sklearn.pipeline import Pipeline\n",
    "from sklearn.model_selection import train_test_split\n",
    "import warnings\n",
    "warnings.filterwarnings('ignore')"
   ]
  },
  {
   "cell_type": "markdown",
   "id": "683f4daf",
   "metadata": {},
   "source": [
    "Reading excel file"
   ]
  },
  {
   "cell_type": "code",
   "execution_count": 209,
   "id": "0a2284f8",
   "metadata": {},
   "outputs": [],
   "source": [
    "meta_data='rainfall.csv'\n",
    "df=pd.read_csv(meta_data)"
   ]
  },
  {
   "cell_type": "markdown",
   "id": "ca0bd7b7",
   "metadata": {},
   "source": [
    "Data Exploration"
   ]
  },
  {
   "cell_type": "code",
   "execution_count": 210,
   "id": "7c5445dd",
   "metadata": {},
   "outputs": [
    {
     "data": {
      "text/html": [
       "<div>\n",
       "<style scoped>\n",
       "    .dataframe tbody tr th:only-of-type {\n",
       "        vertical-align: middle;\n",
       "    }\n",
       "\n",
       "    .dataframe tbody tr th {\n",
       "        vertical-align: top;\n",
       "    }\n",
       "\n",
       "    .dataframe thead th {\n",
       "        text-align: right;\n",
       "    }\n",
       "</style>\n",
       "<table border=\"1\" class=\"dataframe\">\n",
       "  <thead>\n",
       "    <tr style=\"text-align: right;\">\n",
       "      <th></th>\n",
       "      <th>location</th>\n",
       "      <th>Year</th>\n",
       "      <th>Month</th>\n",
       "      <th>Tmax</th>\n",
       "      <th>Tmin</th>\n",
       "      <th>RH</th>\n",
       "      <th>Wind Speed</th>\n",
       "      <th>Rainfall</th>\n",
       "    </tr>\n",
       "  </thead>\n",
       "  <tbody>\n",
       "    <tr>\n",
       "      <th>0</th>\n",
       "      <td>Paro</td>\n",
       "      <td>2000</td>\n",
       "      <td>1</td>\n",
       "      <td>9.5</td>\n",
       "      <td>-0.4</td>\n",
       "      <td>65.0</td>\n",
       "      <td>0.26</td>\n",
       "      <td>0.0</td>\n",
       "    </tr>\n",
       "    <tr>\n",
       "      <th>1</th>\n",
       "      <td>Paro</td>\n",
       "      <td>2000</td>\n",
       "      <td>2</td>\n",
       "      <td>10.6</td>\n",
       "      <td>2.0</td>\n",
       "      <td>65.0</td>\n",
       "      <td>0.52</td>\n",
       "      <td>0.0</td>\n",
       "    </tr>\n",
       "    <tr>\n",
       "      <th>2</th>\n",
       "      <td>Paro</td>\n",
       "      <td>2000</td>\n",
       "      <td>3</td>\n",
       "      <td>14.5</td>\n",
       "      <td>4.0</td>\n",
       "      <td>69.0</td>\n",
       "      <td>0.52</td>\n",
       "      <td>11.0</td>\n",
       "    </tr>\n",
       "    <tr>\n",
       "      <th>3</th>\n",
       "      <td>Paro</td>\n",
       "      <td>2000</td>\n",
       "      <td>4</td>\n",
       "      <td>19.6</td>\n",
       "      <td>8.7</td>\n",
       "      <td>77.0</td>\n",
       "      <td>0.42</td>\n",
       "      <td>23.4</td>\n",
       "    </tr>\n",
       "    <tr>\n",
       "      <th>4</th>\n",
       "      <td>Paro</td>\n",
       "      <td>2000</td>\n",
       "      <td>5</td>\n",
       "      <td>22.5</td>\n",
       "      <td>10.2</td>\n",
       "      <td>77.0</td>\n",
       "      <td>0.24</td>\n",
       "      <td>98.4</td>\n",
       "    </tr>\n",
       "    <tr>\n",
       "      <th>5</th>\n",
       "      <td>Paro</td>\n",
       "      <td>2000</td>\n",
       "      <td>6</td>\n",
       "      <td>24.8</td>\n",
       "      <td>15.2</td>\n",
       "      <td>69.0</td>\n",
       "      <td>0.33</td>\n",
       "      <td>43.0</td>\n",
       "    </tr>\n",
       "    <tr>\n",
       "      <th>6</th>\n",
       "      <td>Paro</td>\n",
       "      <td>2000</td>\n",
       "      <td>7</td>\n",
       "      <td>23.5</td>\n",
       "      <td>19.7</td>\n",
       "      <td>81.0</td>\n",
       "      <td>0.13</td>\n",
       "      <td>108.5</td>\n",
       "    </tr>\n",
       "    <tr>\n",
       "      <th>7</th>\n",
       "      <td>Paro</td>\n",
       "      <td>2000</td>\n",
       "      <td>8</td>\n",
       "      <td>23.6</td>\n",
       "      <td>19.2</td>\n",
       "      <td>76.0</td>\n",
       "      <td>0.51</td>\n",
       "      <td>84.3</td>\n",
       "    </tr>\n",
       "    <tr>\n",
       "      <th>8</th>\n",
       "      <td>Paro</td>\n",
       "      <td>2000</td>\n",
       "      <td>9</td>\n",
       "      <td>23.3</td>\n",
       "      <td>16.5</td>\n",
       "      <td>72.0</td>\n",
       "      <td>0.15</td>\n",
       "      <td>74.8</td>\n",
       "    </tr>\n",
       "    <tr>\n",
       "      <th>9</th>\n",
       "      <td>Paro</td>\n",
       "      <td>2000</td>\n",
       "      <td>10</td>\n",
       "      <td>22.8</td>\n",
       "      <td>12.0</td>\n",
       "      <td>58.0</td>\n",
       "      <td>0.17</td>\n",
       "      <td>0.0</td>\n",
       "    </tr>\n",
       "  </tbody>\n",
       "</table>\n",
       "</div>"
      ],
      "text/plain": [
       "  location  Year  Month  Tmax  Tmin    RH  Wind Speed  Rainfall\n",
       "0     Paro  2000      1   9.5  -0.4  65.0        0.26       0.0\n",
       "1     Paro  2000      2  10.6   2.0  65.0        0.52       0.0\n",
       "2     Paro  2000      3  14.5   4.0  69.0        0.52      11.0\n",
       "3     Paro  2000      4  19.6   8.7  77.0        0.42      23.4\n",
       "4     Paro  2000      5  22.5  10.2  77.0        0.24      98.4\n",
       "5     Paro  2000      6  24.8  15.2  69.0        0.33      43.0\n",
       "6     Paro  2000      7  23.5  19.7  81.0        0.13     108.5\n",
       "7     Paro  2000      8  23.6  19.2  76.0        0.51      84.3\n",
       "8     Paro  2000      9  23.3  16.5  72.0        0.15      74.8\n",
       "9     Paro  2000     10  22.8  12.0  58.0        0.17       0.0"
      ]
     },
     "execution_count": 210,
     "metadata": {},
     "output_type": "execute_result"
    }
   ],
   "source": [
    "df.head(10)"
   ]
  },
  {
   "cell_type": "code",
   "execution_count": 211,
   "id": "96aed9b3",
   "metadata": {},
   "outputs": [
    {
     "data": {
      "text/plain": [
       "(2639, 8)"
      ]
     },
     "execution_count": 211,
     "metadata": {},
     "output_type": "execute_result"
    }
   ],
   "source": [
    "df.shape"
   ]
  },
  {
   "cell_type": "code",
   "execution_count": 212,
   "id": "3948724b",
   "metadata": {},
   "outputs": [
    {
     "data": {
      "text/plain": [
       "Index(['location', 'Year', 'Month', 'Tmax', 'Tmin', 'RH', 'Wind Speed',\n",
       "       'Rainfall'],\n",
       "      dtype='object')"
      ]
     },
     "execution_count": 212,
     "metadata": {},
     "output_type": "execute_result"
    }
   ],
   "source": [
    "df.columns"
   ]
  },
  {
   "cell_type": "code",
   "execution_count": 213,
   "id": "de0c5e6b",
   "metadata": {},
   "outputs": [
    {
     "data": {
      "text/plain": [
       "location       object\n",
       "Year            int64\n",
       "Month           int64\n",
       "Tmax          float64\n",
       "Tmin          float64\n",
       "RH            float64\n",
       "Wind Speed    float64\n",
       "Rainfall      float64\n",
       "dtype: object"
      ]
     },
     "execution_count": 213,
     "metadata": {},
     "output_type": "execute_result"
    }
   ],
   "source": [
    "df.dtypes"
   ]
  },
  {
   "cell_type": "code",
   "execution_count": 214,
   "id": "ff11db63",
   "metadata": {},
   "outputs": [
    {
     "data": {
      "text/plain": [
       "location      2639\n",
       "Year          2639\n",
       "Month         2639\n",
       "Tmax          2638\n",
       "Tmin          2638\n",
       "RH            2637\n",
       "Wind Speed    2632\n",
       "Rainfall      2638\n",
       "dtype: int64"
      ]
     },
     "execution_count": 214,
     "metadata": {},
     "output_type": "execute_result"
    }
   ],
   "source": [
    "df.count()"
   ]
  },
  {
   "cell_type": "code",
   "execution_count": 215,
   "id": "0ba85d71",
   "metadata": {},
   "outputs": [
    {
     "data": {
      "text/plain": [
       "Tmax          21.468284\n",
       "Tmin          10.305516\n",
       "RH            72.616870\n",
       "Wind Speed     0.824214\n",
       "Rainfall      99.919894\n",
       "dtype: float64"
      ]
     },
     "execution_count": 215,
     "metadata": {},
     "output_type": "execute_result"
    }
   ],
   "source": [
    "col=['Tmax','Tmin','RH','Wind Speed','Rainfall']\n",
    "df[col].mean()"
   ]
  },
  {
   "cell_type": "code",
   "execution_count": 216,
   "id": "1239ddac",
   "metadata": {},
   "outputs": [],
   "source": [
    "\n",
    "df.rename(columns={'Wind Speed':'WindSpeed'},inplace=True)"
   ]
  },
  {
   "cell_type": "markdown",
   "id": "7cfbd977",
   "metadata": {},
   "source": [
    "Cheking Null values"
   ]
  },
  {
   "cell_type": "code",
   "execution_count": 217,
   "id": "cb201f33",
   "metadata": {},
   "outputs": [
    {
     "data": {
      "text/plain": [
       "location     0\n",
       "Year         0\n",
       "Month        0\n",
       "Tmax         1\n",
       "Tmin         1\n",
       "RH           2\n",
       "WindSpeed    7\n",
       "Rainfall     1\n",
       "dtype: int64"
      ]
     },
     "execution_count": 217,
     "metadata": {},
     "output_type": "execute_result"
    }
   ],
   "source": [
    "df.isnull().sum()"
   ]
  },
  {
   "cell_type": "code",
   "execution_count": 218,
   "id": "c14ba122",
   "metadata": {},
   "outputs": [
    {
     "data": {
      "text/html": [
       "<div>\n",
       "<style scoped>\n",
       "    .dataframe tbody tr th:only-of-type {\n",
       "        vertical-align: middle;\n",
       "    }\n",
       "\n",
       "    .dataframe tbody tr th {\n",
       "        vertical-align: top;\n",
       "    }\n",
       "\n",
       "    .dataframe thead th {\n",
       "        text-align: right;\n",
       "    }\n",
       "</style>\n",
       "<table border=\"1\" class=\"dataframe\">\n",
       "  <thead>\n",
       "    <tr style=\"text-align: right;\">\n",
       "      <th></th>\n",
       "      <th>location</th>\n",
       "      <th>Year</th>\n",
       "      <th>Month</th>\n",
       "      <th>Tmax</th>\n",
       "      <th>Tmin</th>\n",
       "      <th>RH</th>\n",
       "      <th>WindSpeed</th>\n",
       "      <th>Rainfall</th>\n",
       "    </tr>\n",
       "  </thead>\n",
       "  <tbody>\n",
       "    <tr>\n",
       "      <th>0</th>\n",
       "      <td>Paro</td>\n",
       "      <td>2000</td>\n",
       "      <td>1</td>\n",
       "      <td>9.5</td>\n",
       "      <td>-0.4</td>\n",
       "      <td>65.0</td>\n",
       "      <td>0.26</td>\n",
       "      <td>0.0</td>\n",
       "    </tr>\n",
       "    <tr>\n",
       "      <th>1</th>\n",
       "      <td>Paro</td>\n",
       "      <td>2000</td>\n",
       "      <td>2</td>\n",
       "      <td>10.6</td>\n",
       "      <td>2.0</td>\n",
       "      <td>65.0</td>\n",
       "      <td>0.52</td>\n",
       "      <td>0.0</td>\n",
       "    </tr>\n",
       "    <tr>\n",
       "      <th>2</th>\n",
       "      <td>Paro</td>\n",
       "      <td>2000</td>\n",
       "      <td>3</td>\n",
       "      <td>14.5</td>\n",
       "      <td>4.0</td>\n",
       "      <td>69.0</td>\n",
       "      <td>0.52</td>\n",
       "      <td>11.0</td>\n",
       "    </tr>\n",
       "    <tr>\n",
       "      <th>3</th>\n",
       "      <td>Paro</td>\n",
       "      <td>2000</td>\n",
       "      <td>4</td>\n",
       "      <td>19.6</td>\n",
       "      <td>8.7</td>\n",
       "      <td>77.0</td>\n",
       "      <td>0.42</td>\n",
       "      <td>23.4</td>\n",
       "    </tr>\n",
       "    <tr>\n",
       "      <th>4</th>\n",
       "      <td>Paro</td>\n",
       "      <td>2000</td>\n",
       "      <td>5</td>\n",
       "      <td>22.5</td>\n",
       "      <td>10.2</td>\n",
       "      <td>77.0</td>\n",
       "      <td>0.24</td>\n",
       "      <td>98.4</td>\n",
       "    </tr>\n",
       "  </tbody>\n",
       "</table>\n",
       "</div>"
      ],
      "text/plain": [
       "  location  Year  Month  Tmax  Tmin    RH  WindSpeed  Rainfall\n",
       "0     Paro  2000      1   9.5  -0.4  65.0       0.26       0.0\n",
       "1     Paro  2000      2  10.6   2.0  65.0       0.52       0.0\n",
       "2     Paro  2000      3  14.5   4.0  69.0       0.52      11.0\n",
       "3     Paro  2000      4  19.6   8.7  77.0       0.42      23.4\n",
       "4     Paro  2000      5  22.5  10.2  77.0       0.24      98.4"
      ]
     },
     "execution_count": 218,
     "metadata": {},
     "output_type": "execute_result"
    }
   ],
   "source": [
    "df.head(5)"
   ]
  },
  {
   "cell_type": "code",
   "execution_count": 219,
   "id": "9033b5e2",
   "metadata": {},
   "outputs": [],
   "source": [
    "#df.places.unique()"
   ]
  },
  {
   "cell_type": "markdown",
   "id": "52a74a0f",
   "metadata": {},
   "source": [
    "Handling Missing values"
   ]
  },
  {
   "cell_type": "code",
   "execution_count": 220,
   "id": "de8298e5",
   "metadata": {},
   "outputs": [],
   "source": [
    "df[['Tmax','Tmin','RH','WindSpeed','Rainfall']]=df[['Tmax','Tmin','RH','WindSpeed','Rainfall']].fillna(df[['Tmax','Tmin','RH','WindSpeed','Rainfall']].mean())"
   ]
  },
  {
   "cell_type": "code",
   "execution_count": 221,
   "id": "530720ba",
   "metadata": {},
   "outputs": [
    {
     "data": {
      "text/plain": [
       "location     0\n",
       "Year         0\n",
       "Month        0\n",
       "Tmax         0\n",
       "Tmin         0\n",
       "RH           0\n",
       "WindSpeed    0\n",
       "Rainfall     0\n",
       "dtype: int64"
      ]
     },
     "execution_count": 221,
     "metadata": {},
     "output_type": "execute_result"
    }
   ],
   "source": [
    "# df.fillna(method='bfill',inplace=True)\n",
    "\n",
    "df.isnull().sum()"
   ]
  },
  {
   "cell_type": "code",
   "execution_count": 222,
   "id": "cbd2b8cd",
   "metadata": {},
   "outputs": [
    {
     "data": {
      "text/plain": [
       "location     0\n",
       "Year         0\n",
       "Month        0\n",
       "Tmax         0\n",
       "Tmin         0\n",
       "RH           0\n",
       "WindSpeed    0\n",
       "Rainfall     0\n",
       "dtype: int64"
      ]
     },
     "execution_count": 222,
     "metadata": {},
     "output_type": "execute_result"
    }
   ],
   "source": [
    "df.isnull().sum()"
   ]
  },
  {
   "cell_type": "markdown",
   "id": "00702730",
   "metadata": {},
   "source": [
    "Label Encoding"
   ]
  },
  {
   "cell_type": "code",
   "execution_count": 223,
   "id": "a701958d",
   "metadata": {},
   "outputs": [],
   "source": [
    "# df['location'].describe()"
   ]
  },
  {
   "cell_type": "code",
   "execution_count": 224,
   "id": "48742315",
   "metadata": {},
   "outputs": [
    {
     "data": {
      "text/html": [
       "<div>\n",
       "<style scoped>\n",
       "    .dataframe tbody tr th:only-of-type {\n",
       "        vertical-align: middle;\n",
       "    }\n",
       "\n",
       "    .dataframe tbody tr th {\n",
       "        vertical-align: top;\n",
       "    }\n",
       "\n",
       "    .dataframe thead th {\n",
       "        text-align: right;\n",
       "    }\n",
       "</style>\n",
       "<table border=\"1\" class=\"dataframe\">\n",
       "  <thead>\n",
       "    <tr style=\"text-align: right;\">\n",
       "      <th></th>\n",
       "      <th>Places</th>\n",
       "      <th>Year</th>\n",
       "      <th>Month</th>\n",
       "      <th>Tmax</th>\n",
       "      <th>Tmin</th>\n",
       "      <th>RH</th>\n",
       "      <th>WindSpeed</th>\n",
       "      <th>Rainfall</th>\n",
       "    </tr>\n",
       "  </thead>\n",
       "  <tbody>\n",
       "    <tr>\n",
       "      <th>0</th>\n",
       "      <td>Paro</td>\n",
       "      <td>2000</td>\n",
       "      <td>1</td>\n",
       "      <td>9.5</td>\n",
       "      <td>-0.4</td>\n",
       "      <td>65.0</td>\n",
       "      <td>0.26</td>\n",
       "      <td>0.0</td>\n",
       "    </tr>\n",
       "    <tr>\n",
       "      <th>1</th>\n",
       "      <td>Paro</td>\n",
       "      <td>2000</td>\n",
       "      <td>2</td>\n",
       "      <td>10.6</td>\n",
       "      <td>2.0</td>\n",
       "      <td>65.0</td>\n",
       "      <td>0.52</td>\n",
       "      <td>0.0</td>\n",
       "    </tr>\n",
       "    <tr>\n",
       "      <th>2</th>\n",
       "      <td>Paro</td>\n",
       "      <td>2000</td>\n",
       "      <td>3</td>\n",
       "      <td>14.5</td>\n",
       "      <td>4.0</td>\n",
       "      <td>69.0</td>\n",
       "      <td>0.52</td>\n",
       "      <td>11.0</td>\n",
       "    </tr>\n",
       "    <tr>\n",
       "      <th>3</th>\n",
       "      <td>Paro</td>\n",
       "      <td>2000</td>\n",
       "      <td>4</td>\n",
       "      <td>19.6</td>\n",
       "      <td>8.7</td>\n",
       "      <td>77.0</td>\n",
       "      <td>0.42</td>\n",
       "      <td>23.4</td>\n",
       "    </tr>\n",
       "    <tr>\n",
       "      <th>4</th>\n",
       "      <td>Paro</td>\n",
       "      <td>2000</td>\n",
       "      <td>5</td>\n",
       "      <td>22.5</td>\n",
       "      <td>10.2</td>\n",
       "      <td>77.0</td>\n",
       "      <td>0.24</td>\n",
       "      <td>98.4</td>\n",
       "    </tr>\n",
       "  </tbody>\n",
       "</table>\n",
       "</div>"
      ],
      "text/plain": [
       "  Places  Year  Month  Tmax  Tmin    RH  WindSpeed  Rainfall\n",
       "0   Paro  2000      1   9.5  -0.4  65.0       0.26       0.0\n",
       "1   Paro  2000      2  10.6   2.0  65.0       0.52       0.0\n",
       "2   Paro  2000      3  14.5   4.0  69.0       0.52      11.0\n",
       "3   Paro  2000      4  19.6   8.7  77.0       0.42      23.4\n",
       "4   Paro  2000      5  22.5  10.2  77.0       0.24      98.4"
      ]
     },
     "execution_count": 224,
     "metadata": {},
     "output_type": "execute_result"
    }
   ],
   "source": [
    "df.rename(columns={'location':'Places'},inplace=True)\n",
    "df.head()"
   ]
  },
  {
   "cell_type": "code",
   "execution_count": 225,
   "id": "79402b18",
   "metadata": {},
   "outputs": [
    {
     "data": {
      "text/plain": [
       "Paro            264\n",
       "Pemagatshel     264\n",
       "Punakha         264\n",
       "simkotha        264\n",
       "Chamkhar        264\n",
       "Haa             264\n",
       "Kanglung        264\n",
       "Mongar          264\n",
       "Tashiyangtse    264\n",
       "Deothang        263\n",
       "Name: Places, dtype: int64"
      ]
     },
     "execution_count": 225,
     "metadata": {},
     "output_type": "execute_result"
    }
   ],
   "source": [
    "df['Places'].value_counts()"
   ]
  },
  {
   "cell_type": "code",
   "execution_count": 226,
   "id": "a5baf770",
   "metadata": {},
   "outputs": [
    {
     "name": "stdout",
     "output_type": "stream",
     "text": [
      "   Places  Year  Month  Tmax  Tmin    RH  WindSpeed  Rainfall\n",
      "0       5  2000      1   9.5  -0.4  65.0       0.26       0.0\n",
      "1       5  2000      2  10.6   2.0  65.0       0.52       0.0\n",
      "2       5  2000      3  14.5   4.0  69.0       0.52      11.0\n",
      "3       5  2000      4  19.6   8.7  77.0       0.42      23.4\n",
      "4       5  2000      5  22.5  10.2  77.0       0.24      98.4\n"
     ]
    }
   ],
   "source": [
    "label_encoder = preprocessing.LabelEncoder()\n",
    "df['Places'] = label_encoder.fit_transform(df['Places'])\n",
    "print(df.head())"
   ]
  },
  {
   "cell_type": "code",
   "execution_count": 227,
   "id": "0960aca7",
   "metadata": {},
   "outputs": [
    {
     "data": {
      "text/html": [
       "<div>\n",
       "<style scoped>\n",
       "    .dataframe tbody tr th:only-of-type {\n",
       "        vertical-align: middle;\n",
       "    }\n",
       "\n",
       "    .dataframe tbody tr th {\n",
       "        vertical-align: top;\n",
       "    }\n",
       "\n",
       "    .dataframe thead th {\n",
       "        text-align: right;\n",
       "    }\n",
       "</style>\n",
       "<table border=\"1\" class=\"dataframe\">\n",
       "  <thead>\n",
       "    <tr style=\"text-align: right;\">\n",
       "      <th></th>\n",
       "      <th>Places</th>\n",
       "      <th>Year</th>\n",
       "      <th>Month</th>\n",
       "      <th>Tmax</th>\n",
       "      <th>Tmin</th>\n",
       "      <th>RH</th>\n",
       "      <th>WindSpeed</th>\n",
       "      <th>Rainfall</th>\n",
       "    </tr>\n",
       "  </thead>\n",
       "  <tbody>\n",
       "    <tr>\n",
       "      <th>2634</th>\n",
       "      <td>8</td>\n",
       "      <td>2021</td>\n",
       "      <td>8</td>\n",
       "      <td>25.306452</td>\n",
       "      <td>19.322581</td>\n",
       "      <td>86.129032</td>\n",
       "      <td>0.283226</td>\n",
       "      <td>192.3</td>\n",
       "    </tr>\n",
       "    <tr>\n",
       "      <th>2635</th>\n",
       "      <td>8</td>\n",
       "      <td>2021</td>\n",
       "      <td>9</td>\n",
       "      <td>27.500000</td>\n",
       "      <td>16.816667</td>\n",
       "      <td>78.966667</td>\n",
       "      <td>0.283000</td>\n",
       "      <td>139.8</td>\n",
       "    </tr>\n",
       "    <tr>\n",
       "      <th>2636</th>\n",
       "      <td>8</td>\n",
       "      <td>2021</td>\n",
       "      <td>10</td>\n",
       "      <td>24.951613</td>\n",
       "      <td>12.790323</td>\n",
       "      <td>78.838710</td>\n",
       "      <td>0.286129</td>\n",
       "      <td>94.6</td>\n",
       "    </tr>\n",
       "    <tr>\n",
       "      <th>2637</th>\n",
       "      <td>8</td>\n",
       "      <td>2021</td>\n",
       "      <td>11</td>\n",
       "      <td>20.050000</td>\n",
       "      <td>6.266667</td>\n",
       "      <td>75.666667</td>\n",
       "      <td>0.328333</td>\n",
       "      <td>9.0</td>\n",
       "    </tr>\n",
       "    <tr>\n",
       "      <th>2638</th>\n",
       "      <td>8</td>\n",
       "      <td>2021</td>\n",
       "      <td>12</td>\n",
       "      <td>16.854839</td>\n",
       "      <td>1.935484</td>\n",
       "      <td>74.483871</td>\n",
       "      <td>0.321290</td>\n",
       "      <td>21.0</td>\n",
       "    </tr>\n",
       "  </tbody>\n",
       "</table>\n",
       "</div>"
      ],
      "text/plain": [
       "      Places  Year  Month       Tmax       Tmin         RH  WindSpeed  \\\n",
       "2634       8  2021      8  25.306452  19.322581  86.129032   0.283226   \n",
       "2635       8  2021      9  27.500000  16.816667  78.966667   0.283000   \n",
       "2636       8  2021     10  24.951613  12.790323  78.838710   0.286129   \n",
       "2637       8  2021     11  20.050000   6.266667  75.666667   0.328333   \n",
       "2638       8  2021     12  16.854839   1.935484  74.483871   0.321290   \n",
       "\n",
       "      Rainfall  \n",
       "2634     192.3  \n",
       "2635     139.8  \n",
       "2636      94.6  \n",
       "2637       9.0  \n",
       "2638      21.0  "
      ]
     },
     "execution_count": 227,
     "metadata": {},
     "output_type": "execute_result"
    }
   ],
   "source": [
    "df.tail()"
   ]
  },
  {
   "cell_type": "code",
   "execution_count": 228,
   "id": "4ca37b86",
   "metadata": {},
   "outputs": [
    {
     "data": {
      "text/plain": [
       "34.35483871"
      ]
     },
     "execution_count": 228,
     "metadata": {},
     "output_type": "execute_result"
    }
   ],
   "source": [
    "df.shape\n",
    "df.Tmax.max()"
   ]
  },
  {
   "cell_type": "code",
   "execution_count": 229,
   "id": "5dba3983",
   "metadata": {},
   "outputs": [
    {
     "data": {
      "text/plain": [
       "7.3"
      ]
     },
     "execution_count": 229,
     "metadata": {},
     "output_type": "execute_result"
    }
   ],
   "source": [
    "df.Tmax.min()"
   ]
  },
  {
   "cell_type": "code",
   "execution_count": 230,
   "id": "40a4a24d",
   "metadata": {},
   "outputs": [
    {
     "data": {
      "text/plain": [
       "99.91989385898408"
      ]
     },
     "execution_count": 230,
     "metadata": {},
     "output_type": "execute_result"
    }
   ],
   "source": [
    "df.Tmax.mean()\n",
    "df.Rainfall.max()\n",
    "df.Rainfall.mean()"
   ]
  },
  {
   "cell_type": "code",
   "execution_count": 231,
   "id": "292f9ad4",
   "metadata": {},
   "outputs": [
    {
     "data": {
      "text/plain": [
       "2125.9"
      ]
     },
     "execution_count": 231,
     "metadata": {},
     "output_type": "execute_result"
    }
   ],
   "source": [
    "df.Rainfall.max()"
   ]
  },
  {
   "cell_type": "code",
   "execution_count": 232,
   "id": "52c25bbf",
   "metadata": {},
   "outputs": [
    {
     "data": {
      "text/plain": [
       "<bound method Series.count of 0       False\n",
       "1       False\n",
       "2       False\n",
       "3       False\n",
       "4       False\n",
       "        ...  \n",
       "2634    False\n",
       "2635    False\n",
       "2636    False\n",
       "2637    False\n",
       "2638    False\n",
       "Name: Rainfall, Length: 2639, dtype: bool>"
      ]
     },
     "execution_count": 232,
     "metadata": {},
     "output_type": "execute_result"
    }
   ],
   "source": [
    "(df.Rainfall > 2000).count"
   ]
  },
  {
   "cell_type": "markdown",
   "id": "e9fadf57",
   "metadata": {},
   "source": [
    "Visualization"
   ]
  },
  {
   "cell_type": "code",
   "execution_count": 233,
   "id": "fad5ba40",
   "metadata": {},
   "outputs": [
    {
     "data": {
      "image/png": "[encoded data removed]",
      "text/plain": [
       "<Figure size 432x288 with 1 Axes>"
      ]
     },
     "metadata": {
      "needs_background": "light"
     },
     "output_type": "display_data"
    }
   ],
   "source": [
    "#Tmax Vs. Rainfall\n",
    "x = df.Tmax\n",
    "y = df.Rainfall\n",
    "plt.scatter(x,y)\n",
    "plt.xlabel('Tmax in degree c')\n",
    "plt.ylabel('Rainfall in ml')\n",
    "plt.show()"
   ]
  },
  {
   "cell_type": "code",
   "execution_count": 234,
   "id": "e7e6ac16",
   "metadata": {},
   "outputs": [
    {
     "data": {
      "image/png": "[encoded data removed]",
      "text/plain": [
       "<Figure size 432x288 with 1 Axes>"
      ]
     },
     "metadata": {
      "needs_background": "light"
     },
     "output_type": "display_data"
    }
   ],
   "source": [
    "#Tmin Vs. Rainfall\n",
    "x = df.Tmin\n",
    "y = df.Rainfall\n",
    "plt.scatter(x,y)\n",
    "plt.xlabel('Tmin in degree c')\n",
    "plt.ylabel('Rainfall in ml')\n",
    "plt.show()"
   ]
  },
  {
   "cell_type": "code",
   "execution_count": 235,
   "id": "6dcb90c1",
   "metadata": {},
   "outputs": [
    {
     "data": {
      "image/png": "[encoded data removed]",
      "text/plain": [
       "<Figure size 432x288 with 1 Axes>"
      ]
     },
     "metadata": {
      "needs_background": "light"
     },
     "output_type": "display_data"
    }
   ],
   "source": [
    "#RH Vs. Rainfall\n",
    "x = df.RH\n",
    "y = df.Rainfall\n",
    "plt.scatter(x,y)\n",
    "plt.xlabel('RH in %')\n",
    "plt.ylabel('Rainfall in ml')\n",
    "plt.show()"
   ]
  },
  {
   "cell_type": "code",
   "execution_count": 236,
   "id": "d3c5c673",
   "metadata": {},
   "outputs": [
    {
     "data": {
      "image/png": "[encoded data removed]",
      "text/plain": [
       "<Figure size 432x288 with 1 Axes>"
      ]
     },
     "metadata": {
      "needs_background": "light"
     },
     "output_type": "display_data"
    }
   ],
   "source": [
    "# Wind speed  Vs. Rainfall\n",
    "x = df.WindSpeed\n",
    "y = df.Rainfall\n",
    "plt.scatter(x,y)\n",
    "plt.xlabel('WInd speed in m/s')\n",
    "plt.ylabel('Rainfall in ml')\n",
    "plt.show()"
   ]
  },
  {
   "cell_type": "markdown",
   "id": "6491a914",
   "metadata": {},
   "source": [
    "Feature Engineering"
   ]
  },
  {
   "cell_type": "code",
   "execution_count": 237,
   "id": "df750dd2",
   "metadata": {},
   "outputs": [],
   "source": [
    "#Finding and removing outliers\n",
    "#sns.boxplot(x=df['Tmax'])\n",
    "#plt.show()"
   ]
  },
  {
   "cell_type": "code",
   "execution_count": 238,
   "id": "d9fe5247",
   "metadata": {},
   "outputs": [],
   "source": [
    "#Q1 = df.Tmax.quantile(0.25)\n",
    "#Q3 = df.Tmax.quantile(0.75)\n",
    "#IQR = Q3 - Q1\n",
    "#upperlimit = Q3 + (IQR * 1.5)\n",
    "#lowerlimit = Q1 - (IQR * 1.5)"
   ]
  },
  {
   "cell_type": "code",
   "execution_count": 239,
   "id": "9247d6ed",
   "metadata": {},
   "outputs": [],
   "source": [
    "#df1=df[(df.Tmax> lowerlimit)  & (df.Tmax < upperlimit)]\n",
    "#df1.shape"
   ]
  },
  {
   "cell_type": "code",
   "execution_count": 240,
   "id": "a6da8b7e",
   "metadata": {},
   "outputs": [],
   "source": [
    "#Finding and removing outliers from tmin\n",
    "#sns.boxplot(x=df1['Tmin'])\n",
    "#plt.show()\n"
   ]
  },
  {
   "cell_type": "code",
   "execution_count": 241,
   "id": "6e79f9fe",
   "metadata": {},
   "outputs": [],
   "source": [
    "Q1 = df.Tmin.quantile(0.25)\n",
    "Q3 = df.Tmin.quantile(0.75)\n",
    "IQR = Q3 - Q1\n",
    "upperlimit = Q3 + (IQR * 1.5)\n",
    "lowerlimit = Q1 - (IQR * 1.5)"
   ]
  },
  {
   "cell_type": "code",
   "execution_count": 242,
   "id": "ef49f544",
   "metadata": {},
   "outputs": [
    {
     "data": {
      "text/plain": [
       "(2639, 8)"
      ]
     },
     "execution_count": 242,
     "metadata": {},
     "output_type": "execute_result"
    }
   ],
   "source": [
    "df2=df[(df.Tmin> lowerlimit)  & (df.Tmin < upperlimit)]\n",
    "df2.shape"
   ]
  },
  {
   "cell_type": "code",
   "execution_count": 243,
   "id": "148f2226",
   "metadata": {},
   "outputs": [
    {
     "data": {
      "image/png": "[encoded data removed]",
      "text/plain": [
       "<Figure size 432x288 with 1 Axes>"
      ]
     },
     "metadata": {
      "needs_background": "light"
     },
     "output_type": "display_data"
    }
   ],
   "source": [
    "#Finding and removing outliers from rh\n",
    "sns.boxplot(x=df2['RH'])\n",
    "plt.show()"
   ]
  },
  {
   "cell_type": "code",
   "execution_count": 244,
   "id": "7e199bed",
   "metadata": {},
   "outputs": [],
   "source": [
    "Q1 = df2.RH.quantile(0.25)\n",
    "Q3 = df2.RH.quantile(0.75)\n",
    "IQR = Q3 - Q1\n",
    "upperlimit = Q3 + (IQR * 1.5)\n",
    "lowerlimit = Q1 - (IQR * 1.5)"
   ]
  },
  {
   "cell_type": "code",
   "execution_count": 245,
   "id": "5ac5f6aa",
   "metadata": {},
   "outputs": [
    {
     "data": {
      "text/plain": [
       "(2620, 8)"
      ]
     },
     "execution_count": 245,
     "metadata": {},
     "output_type": "execute_result"
    }
   ],
   "source": [
    "df3=df2[(df2.RH> lowerlimit)  & (df2.RH < upperlimit)]\n",
    "df3.shape"
   ]
  },
  {
   "cell_type": "code",
   "execution_count": 246,
   "id": "75326ffe",
   "metadata": {},
   "outputs": [
    {
     "data": {
      "image/png": "[encoded data removed]",
      "text/plain": [
       "<Figure size 432x288 with 1 Axes>"
      ]
     },
     "metadata": {
      "needs_background": "light"
     },
     "output_type": "display_data"
    }
   ],
   "source": [
    "#Finding and removing outliers from Windspeed\n",
    "sns.boxplot(x=df2['WindSpeed'])\n",
    "plt.show()\n"
   ]
  },
  {
   "cell_type": "code",
   "execution_count": 247,
   "id": "0cdeb51e",
   "metadata": {},
   "outputs": [],
   "source": [
    "Q1 = df3.WindSpeed.quantile(0.25)\n",
    "Q3 = df3.WindSpeed.quantile(0.75)\n",
    "IQR = Q3 - Q1\n",
    "upperlimit = Q3 + (IQR * 1.5)\n",
    "lowerlimit = Q1 - (IQR * 1.5)"
   ]
  },
  {
   "cell_type": "code",
   "execution_count": 248,
   "id": "aa7b01ac",
   "metadata": {},
   "outputs": [
    {
     "data": {
      "text/plain": [
       "(2590, 8)"
      ]
     },
     "execution_count": 248,
     "metadata": {},
     "output_type": "execute_result"
    }
   ],
   "source": [
    "df4=df3[(df3.WindSpeed> lowerlimit)  & (df3.WindSpeed < upperlimit)]\n",
    "df4.shape"
   ]
  },
  {
   "cell_type": "code",
   "execution_count": 249,
   "id": "11972fa3",
   "metadata": {},
   "outputs": [
    {
     "data": {
      "text/html": [
       "<div>\n",
       "<style scoped>\n",
       "    .dataframe tbody tr th:only-of-type {\n",
       "        vertical-align: middle;\n",
       "    }\n",
       "\n",
       "    .dataframe tbody tr th {\n",
       "        vertical-align: top;\n",
       "    }\n",
       "\n",
       "    .dataframe thead th {\n",
       "        text-align: right;\n",
       "    }\n",
       "</style>\n",
       "<table border=\"1\" class=\"dataframe\">\n",
       "  <thead>\n",
       "    <tr style=\"text-align: right;\">\n",
       "      <th></th>\n",
       "      <th>Places</th>\n",
       "      <th>Year</th>\n",
       "      <th>Month</th>\n",
       "      <th>Tmax</th>\n",
       "      <th>Tmin</th>\n",
       "      <th>RH</th>\n",
       "      <th>WindSpeed</th>\n",
       "      <th>Rainfall</th>\n",
       "    </tr>\n",
       "  </thead>\n",
       "  <tbody>\n",
       "    <tr>\n",
       "      <th>Places</th>\n",
       "      <td>1.000000</td>\n",
       "      <td>-0.007662</td>\n",
       "      <td>0.004582</td>\n",
       "      <td>0.174478</td>\n",
       "      <td>0.049443</td>\n",
       "      <td>-0.065942</td>\n",
       "      <td>-0.151575</td>\n",
       "      <td>-0.167665</td>\n",
       "    </tr>\n",
       "    <tr>\n",
       "      <th>Year</th>\n",
       "      <td>-0.007662</td>\n",
       "      <td>1.000000</td>\n",
       "      <td>-0.003955</td>\n",
       "      <td>0.067720</td>\n",
       "      <td>-0.029463</td>\n",
       "      <td>-0.153126</td>\n",
       "      <td>-0.159512</td>\n",
       "      <td>-0.002129</td>\n",
       "    </tr>\n",
       "    <tr>\n",
       "      <th>Month</th>\n",
       "      <td>0.004582</td>\n",
       "      <td>-0.003955</td>\n",
       "      <td>1.000000</td>\n",
       "      <td>0.206018</td>\n",
       "      <td>0.196200</td>\n",
       "      <td>0.125817</td>\n",
       "      <td>-0.248115</td>\n",
       "      <td>0.041607</td>\n",
       "    </tr>\n",
       "    <tr>\n",
       "      <th>Tmax</th>\n",
       "      <td>0.174478</td>\n",
       "      <td>0.067720</td>\n",
       "      <td>0.206018</td>\n",
       "      <td>1.000000</td>\n",
       "      <td>0.875319</td>\n",
       "      <td>0.356392</td>\n",
       "      <td>-0.255107</td>\n",
       "      <td>0.400836</td>\n",
       "    </tr>\n",
       "    <tr>\n",
       "      <th>Tmin</th>\n",
       "      <td>0.049443</td>\n",
       "      <td>-0.029463</td>\n",
       "      <td>0.196200</td>\n",
       "      <td>0.875319</td>\n",
       "      <td>1.000000</td>\n",
       "      <td>0.534107</td>\n",
       "      <td>-0.291984</td>\n",
       "      <td>0.520443</td>\n",
       "    </tr>\n",
       "    <tr>\n",
       "      <th>RH</th>\n",
       "      <td>-0.065942</td>\n",
       "      <td>-0.153126</td>\n",
       "      <td>0.125817</td>\n",
       "      <td>0.356392</td>\n",
       "      <td>0.534107</td>\n",
       "      <td>1.000000</td>\n",
       "      <td>-0.314941</td>\n",
       "      <td>0.510174</td>\n",
       "    </tr>\n",
       "    <tr>\n",
       "      <th>WindSpeed</th>\n",
       "      <td>-0.151575</td>\n",
       "      <td>-0.159512</td>\n",
       "      <td>-0.248115</td>\n",
       "      <td>-0.255107</td>\n",
       "      <td>-0.291984</td>\n",
       "      <td>-0.314941</td>\n",
       "      <td>1.000000</td>\n",
       "      <td>-0.224137</td>\n",
       "    </tr>\n",
       "    <tr>\n",
       "      <th>Rainfall</th>\n",
       "      <td>-0.167665</td>\n",
       "      <td>-0.002129</td>\n",
       "      <td>0.041607</td>\n",
       "      <td>0.400836</td>\n",
       "      <td>0.520443</td>\n",
       "      <td>0.510174</td>\n",
       "      <td>-0.224137</td>\n",
       "      <td>1.000000</td>\n",
       "    </tr>\n",
       "  </tbody>\n",
       "</table>\n",
       "</div>"
      ],
      "text/plain": [
       "             Places      Year     Month      Tmax      Tmin        RH  \\\n",
       "Places     1.000000 -0.007662  0.004582  0.174478  0.049443 -0.065942   \n",
       "Year      -0.007662  1.000000 -0.003955  0.067720 -0.029463 -0.153126   \n",
       "Month      0.004582 -0.003955  1.000000  0.206018  0.196200  0.125817   \n",
       "Tmax       0.174478  0.067720  0.206018  1.000000  0.875319  0.356392   \n",
       "Tmin       0.049443 -0.029463  0.196200  0.875319  1.000000  0.534107   \n",
       "RH        -0.065942 -0.153126  0.125817  0.356392  0.534107  1.000000   \n",
       "WindSpeed -0.151575 -0.159512 -0.248115 -0.255107 -0.291984 -0.314941   \n",
       "Rainfall  -0.167665 -0.002129  0.041607  0.400836  0.520443  0.510174   \n",
       "\n",
       "           WindSpeed  Rainfall  \n",
       "Places     -0.151575 -0.167665  \n",
       "Year       -0.159512 -0.002129  \n",
       "Month      -0.248115  0.041607  \n",
       "Tmax       -0.255107  0.400836  \n",
       "Tmin       -0.291984  0.520443  \n",
       "RH         -0.314941  0.510174  \n",
       "WindSpeed   1.000000 -0.224137  \n",
       "Rainfall   -0.224137  1.000000  "
      ]
     },
     "execution_count": 249,
     "metadata": {},
     "output_type": "execute_result"
    }
   ],
   "source": [
    "df4.corr()"
   ]
  },
  {
   "cell_type": "code",
   "execution_count": 250,
   "id": "59c87e5b",
   "metadata": {},
   "outputs": [
    {
     "data": {
      "text/plain": [
       "<AxesSubplot:>"
      ]
     },
     "execution_count": 250,
     "metadata": {},
     "output_type": "execute_result"
    },
    {
     "data": {
      "image/png": "[encoded data removed]",
      "text/plain": [
       "<Figure size 432x288 with 2 Axes>"
      ]
     },
     "metadata": {
      "needs_background": "light"
     },
     "output_type": "display_data"
    }
   ],
   "source": [
    "sns.heatmap(df4.corr(), annot=True,cmap='YlGnBu')"
   ]
  },
  {
   "cell_type": "code",
   "execution_count": 251,
   "id": "e455b350",
   "metadata": {},
   "outputs": [],
   "source": [
    "#Finding and removing outliers from Rainfall\n",
    "#sns.boxplot(x=df['Rainfall'])\n",
    "#plt.show()"
   ]
  },
  {
   "cell_type": "code",
   "execution_count": 252,
   "id": "c4524426",
   "metadata": {},
   "outputs": [],
   "source": [
    "#Q1 = df4.Rainfall.quantile(0.25)\n",
    "#Q3 = df4.Rainfall.quantile(0.75)\n",
    "#IQR = Q3 - Q1\n",
    "#upperlimit = Q3 + (IQR * 1.5)\n",
    "#lowerlimit = Q1 - (IQR * 1.5)"
   ]
  },
  {
   "cell_type": "code",
   "execution_count": 253,
   "id": "87343ad9",
   "metadata": {},
   "outputs": [],
   "source": [
    "#final_df=df4[(df4.Rainfall> lowerlimit)  & (df4.Rainfall < upperlimit)]\n",
    "#final_df.shape"
   ]
  },
  {
   "cell_type": "code",
   "execution_count": null,
   "id": "0fbdd28b",
   "metadata": {},
   "outputs": [],
   "source": []
  },
  {
   "cell_type": "code",
   "execution_count": 254,
   "id": "775d10f0",
   "metadata": {},
   "outputs": [
    {
     "data": {
      "text/html": [
       "<div>\n",
       "<style scoped>\n",
       "    .dataframe tbody tr th:only-of-type {\n",
       "        vertical-align: middle;\n",
       "    }\n",
       "\n",
       "    .dataframe tbody tr th {\n",
       "        vertical-align: top;\n",
       "    }\n",
       "\n",
       "    .dataframe thead th {\n",
       "        text-align: right;\n",
       "    }\n",
       "</style>\n",
       "<table border=\"1\" class=\"dataframe\">\n",
       "  <thead>\n",
       "    <tr style=\"text-align: right;\">\n",
       "      <th></th>\n",
       "      <th>Places</th>\n",
       "      <th>Year</th>\n",
       "      <th>Month</th>\n",
       "      <th>Tmax</th>\n",
       "      <th>Tmin</th>\n",
       "      <th>RH</th>\n",
       "      <th>WindSpeed</th>\n",
       "      <th>Rainfall</th>\n",
       "    </tr>\n",
       "  </thead>\n",
       "  <tbody>\n",
       "    <tr>\n",
       "      <th>0</th>\n",
       "      <td>0.174976</td>\n",
       "      <td>-1.648847</td>\n",
       "      <td>-1.603338</td>\n",
       "      <td>-2.378979</td>\n",
       "      <td>-1.585022</td>\n",
       "      <td>-0.815043</td>\n",
       "      <td>-1.387232</td>\n",
       "      <td>-0.624846</td>\n",
       "    </tr>\n",
       "    <tr>\n",
       "      <th>1</th>\n",
       "      <td>0.174976</td>\n",
       "      <td>-1.648847</td>\n",
       "      <td>-1.312780</td>\n",
       "      <td>-2.160757</td>\n",
       "      <td>-1.232090</td>\n",
       "      <td>-0.815043</td>\n",
       "      <td>-0.727820</td>\n",
       "      <td>-0.624846</td>\n",
       "    </tr>\n",
       "    <tr>\n",
       "      <th>2</th>\n",
       "      <td>0.174976</td>\n",
       "      <td>-1.648847</td>\n",
       "      <td>-1.022223</td>\n",
       "      <td>-1.387059</td>\n",
       "      <td>-0.937980</td>\n",
       "      <td>-0.400055</td>\n",
       "      <td>-0.727820</td>\n",
       "      <td>-0.556885</td>\n",
       "    </tr>\n",
       "    <tr>\n",
       "      <th>3</th>\n",
       "      <td>0.174976</td>\n",
       "      <td>-1.648847</td>\n",
       "      <td>-0.731666</td>\n",
       "      <td>-0.375301</td>\n",
       "      <td>-0.246822</td>\n",
       "      <td>0.429922</td>\n",
       "      <td>-0.981440</td>\n",
       "      <td>-0.480274</td>\n",
       "    </tr>\n",
       "    <tr>\n",
       "      <th>4</th>\n",
       "      <td>0.174976</td>\n",
       "      <td>-1.648847</td>\n",
       "      <td>-0.441109</td>\n",
       "      <td>0.200013</td>\n",
       "      <td>-0.026239</td>\n",
       "      <td>0.429922</td>\n",
       "      <td>-1.437956</td>\n",
       "      <td>-0.016902</td>\n",
       "    </tr>\n",
       "  </tbody>\n",
       "</table>\n",
       "</div>"
      ],
      "text/plain": [
       "     Places      Year     Month      Tmax      Tmin        RH  WindSpeed  \\\n",
       "0  0.174976 -1.648847 -1.603338 -2.378979 -1.585022 -0.815043  -1.387232   \n",
       "1  0.174976 -1.648847 -1.312780 -2.160757 -1.232090 -0.815043  -0.727820   \n",
       "2  0.174976 -1.648847 -1.022223 -1.387059 -0.937980 -0.400055  -0.727820   \n",
       "3  0.174976 -1.648847 -0.731666 -0.375301 -0.246822  0.429922  -0.981440   \n",
       "4  0.174976 -1.648847 -0.441109  0.200013 -0.026239  0.429922  -1.437956   \n",
       "\n",
       "   Rainfall  \n",
       "0 -0.624846  \n",
       "1 -0.624846  \n",
       "2 -0.556885  \n",
       "3 -0.480274  \n",
       "4 -0.016902  "
      ]
     },
     "execution_count": 254,
     "metadata": {},
     "output_type": "execute_result"
    }
   ],
   "source": [
    "from sklearn.preprocessing import StandardScaler\n",
    "sc=StandardScaler()\n",
    "scaled_data=sc.fit_transform(df4)\n",
    "final_df=pd.DataFrame(data=scaled_data,columns=df4.columns)\n",
    "final_df.head()"
   ]
  },
  {
   "cell_type": "code",
   "execution_count": 255,
   "id": "d1ea75de",
   "metadata": {},
   "outputs": [],
   "source": [
    "X=final_df[['Places','Year','Month','Tmax','RH','WindSpeed']]\n",
    "y=final_df['Rainfall']\n"
   ]
  },
  {
   "cell_type": "markdown",
   "id": "61aaf4fc",
   "metadata": {},
   "source": [
    "Splitting Data "
   ]
  },
  {
   "cell_type": "code",
   "execution_count": 256,
   "id": "26df2787",
   "metadata": {},
   "outputs": [],
   "source": [
    "X_train, X_test, y_train, y_test = train_test_split(X, y, test_size = 0.2, random_state = 0)"
   ]
  },
  {
   "cell_type": "code",
   "execution_count": 257,
   "id": "0c159449",
   "metadata": {},
   "outputs": [
    {
     "data": {
      "text/plain": [
       "2072"
      ]
     },
     "execution_count": 257,
     "metadata": {},
     "output_type": "execute_result"
    }
   ],
   "source": [
    "len(X_train)"
   ]
  },
  {
   "cell_type": "code",
   "execution_count": 258,
   "id": "aa698250",
   "metadata": {},
   "outputs": [
    {
     "data": {
      "text/plain": [
       "518"
      ]
     },
     "execution_count": 258,
     "metadata": {},
     "output_type": "execute_result"
    }
   ],
   "source": [
    "len(X_test)"
   ]
  },
  {
   "cell_type": "markdown",
   "id": "ad39aecb",
   "metadata": {},
   "source": [
    "Feature Scaling"
   ]
  },
  {
   "cell_type": "markdown",
   "id": "cb46ddb9",
   "metadata": {},
   "source": [
    "Training Model / Modelling"
   ]
  },
  {
   "cell_type": "markdown",
   "id": "2cc83952",
   "metadata": {},
   "source": [
    "ANN Algorithm"
   ]
  },
  {
   "cell_type": "code",
   "execution_count": 259,
   "id": "5668c7e5",
   "metadata": {},
   "outputs": [
    {
     "name": "stdout",
     "output_type": "stream",
     "text": [
      "Model: \"sequential_3\"\n",
      "_________________________________________________________________\n",
      " Layer (type)                Output Shape              Param #   \n",
      "=================================================================\n",
      " dense_24 (Dense)            (None, 50)                350       \n",
      "                                                                 \n",
      " dense_25 (Dense)            (None, 8)                 408       \n",
      "                                                                 \n",
      " dense_26 (Dense)            (None, 32)                288       \n",
      "                                                                 \n",
      " dense_27 (Dense)            (None, 64)                2112      \n",
      "                                                                 \n",
      " dense_28 (Dense)            (None, 64)                4160      \n",
      "                                                                 \n",
      " dropout_6 (Dropout)         (None, 64)                0         \n",
      "                                                                 \n",
      " dense_29 (Dense)            (None, 64)                4160      \n",
      "                                                                 \n",
      " dropout_7 (Dropout)         (None, 64)                0         \n",
      "                                                                 \n",
      " dense_30 (Dense)            (None, 128)               8320      \n",
      "                                                                 \n",
      " dense_31 (Dense)            (None, 1)                 129       \n",
      "                                                                 \n",
      "=================================================================\n",
      "Total params: 19,927\n",
      "Trainable params: 19,927\n",
      "Non-trainable params: 0\n",
      "_________________________________________________________________\n",
      "Epoch 1/100\n",
      "52/52 [==============================] - 0s 3ms/step - loss: 0.7818 - accuracy: 0.0000e+00 - val_loss: 0.3929 - val_accuracy: 0.0000e+00\n",
      "Epoch 2/100\n",
      "52/52 [==============================] - 0s 2ms/step - loss: 0.4624 - accuracy: 0.0000e+00 - val_loss: 0.3340 - val_accuracy: 0.0000e+00\n",
      "Epoch 3/100\n",
      "52/52 [==============================] - 0s 2ms/step - loss: 0.4014 - accuracy: 0.0000e+00 - val_loss: 0.3009 - val_accuracy: 0.0000e+00\n",
      "Epoch 4/100\n",
      "52/52 [==============================] - 0s 2ms/step - loss: 0.3540 - accuracy: 0.0000e+00 - val_loss: 0.2781 - val_accuracy: 0.0000e+00\n",
      "Epoch 5/100\n",
      "52/52 [==============================] - 0s 2ms/step - loss: 0.3647 - accuracy: 0.0000e+00 - val_loss: 0.2946 - val_accuracy: 0.0000e+00\n",
      "Epoch 6/100\n",
      "52/52 [==============================] - 0s 2ms/step - loss: 0.3412 - accuracy: 0.0000e+00 - val_loss: 0.2956 - val_accuracy: 0.0000e+00\n",
      "Epoch 7/100\n",
      "52/52 [==============================] - 0s 2ms/step - loss: 0.3444 - accuracy: 0.0000e+00 - val_loss: 0.3013 - val_accuracy: 0.0000e+00\n",
      "Epoch 8/100\n",
      "52/52 [==============================] - 0s 2ms/step - loss: 0.3380 - accuracy: 0.0000e+00 - val_loss: 0.2535 - val_accuracy: 0.0000e+00\n",
      "Epoch 9/100\n",
      "52/52 [==============================] - 0s 2ms/step - loss: 0.3186 - accuracy: 0.0000e+00 - val_loss: 0.2525 - val_accuracy: 0.0000e+00\n",
      "Epoch 10/100\n",
      "52/52 [==============================] - 0s 2ms/step - loss: 0.3135 - accuracy: 0.0000e+00 - val_loss: 0.2351 - val_accuracy: 0.0000e+00\n",
      "Epoch 11/100\n",
      "52/52 [==============================] - 0s 2ms/step - loss: 0.2783 - accuracy: 0.0000e+00 - val_loss: 0.2321 - val_accuracy: 0.0000e+00\n",
      "Epoch 12/100\n",
      "52/52 [==============================] - 0s 2ms/step - loss: 0.2924 - accuracy: 0.0000e+00 - val_loss: 0.2437 - val_accuracy: 0.0000e+00\n",
      "Epoch 13/100\n",
      "52/52 [==============================] - 0s 2ms/step - loss: 0.2793 - accuracy: 0.0000e+00 - val_loss: 0.2463 - val_accuracy: 0.0000e+00\n",
      "Epoch 14/100\n",
      "52/52 [==============================] - 0s 2ms/step - loss: 0.2716 - accuracy: 0.0000e+00 - val_loss: 0.2285 - val_accuracy: 0.0000e+00\n",
      "Epoch 15/100\n",
      "52/52 [==============================] - 0s 2ms/step - loss: 0.2803 - accuracy: 0.0000e+00 - val_loss: 0.2665 - val_accuracy: 0.0000e+00\n",
      "Epoch 16/100\n",
      "52/52 [==============================] - 0s 2ms/step - loss: 0.2948 - accuracy: 0.0000e+00 - val_loss: 0.2424 - val_accuracy: 0.0000e+00\n",
      "Epoch 17/100\n",
      "52/52 [==============================] - 0s 2ms/step - loss: 0.2878 - accuracy: 0.0000e+00 - val_loss: 0.2230 - val_accuracy: 0.0000e+00\n",
      "Epoch 18/100\n",
      "52/52 [==============================] - 0s 2ms/step - loss: 0.2592 - accuracy: 0.0000e+00 - val_loss: 0.2300 - val_accuracy: 0.0000e+00\n",
      "Epoch 19/100\n",
      "52/52 [==============================] - 0s 2ms/step - loss: 0.2647 - accuracy: 0.0000e+00 - val_loss: 0.2301 - val_accuracy: 0.0000e+00\n",
      "Epoch 20/100\n",
      "52/52 [==============================] - 0s 2ms/step - loss: 0.2573 - accuracy: 0.0000e+00 - val_loss: 0.2222 - val_accuracy: 0.0000e+00\n",
      "Epoch 21/100\n",
      "52/52 [==============================] - 0s 2ms/step - loss: 0.2368 - accuracy: 0.0000e+00 - val_loss: 0.3274 - val_accuracy: 0.0000e+00\n",
      "Epoch 22/100\n",
      "52/52 [==============================] - 0s 2ms/step - loss: 0.2586 - accuracy: 0.0000e+00 - val_loss: 0.2292 - val_accuracy: 0.0000e+00\n",
      "Epoch 23/100\n",
      "52/52 [==============================] - 0s 2ms/step - loss: 0.2896 - accuracy: 0.0000e+00 - val_loss: 0.2468 - val_accuracy: 0.0000e+00\n",
      "Epoch 24/100\n",
      "52/52 [==============================] - 0s 2ms/step - loss: 0.2603 - accuracy: 0.0000e+00 - val_loss: 0.2551 - val_accuracy: 0.0000e+00\n",
      "Epoch 25/100\n",
      "52/52 [==============================] - 0s 2ms/step - loss: 0.2725 - accuracy: 0.0000e+00 - val_loss: 0.2249 - val_accuracy: 0.0000e+00\n",
      "Epoch 26/100\n",
      "52/52 [==============================] - 0s 2ms/step - loss: 0.2545 - accuracy: 0.0000e+00 - val_loss: 0.2183 - val_accuracy: 0.0000e+00\n",
      "Epoch 27/100\n",
      "52/52 [==============================] - 0s 2ms/step - loss: 0.2275 - accuracy: 0.0000e+00 - val_loss: 0.2732 - val_accuracy: 0.0000e+00\n",
      "Epoch 28/100\n",
      "52/52 [==============================] - 0s 2ms/step - loss: 0.2473 - accuracy: 0.0000e+00 - val_loss: 0.2626 - val_accuracy: 0.0000e+00\n",
      "Epoch 29/100\n",
      "52/52 [==============================] - 0s 2ms/step - loss: 0.2417 - accuracy: 0.0000e+00 - val_loss: 0.2165 - val_accuracy: 0.0000e+00\n",
      "Epoch 30/100\n",
      "52/52 [==============================] - 0s 2ms/step - loss: 0.2266 - accuracy: 0.0000e+00 - val_loss: 0.2111 - val_accuracy: 0.0000e+00\n",
      "Epoch 31/100\n",
      "52/52 [==============================] - 0s 2ms/step - loss: 0.2251 - accuracy: 0.0000e+00 - val_loss: 0.2453 - val_accuracy: 0.0000e+00\n",
      "Epoch 32/100\n",
      "52/52 [==============================] - 0s 2ms/step - loss: 0.2287 - accuracy: 0.0000e+00 - val_loss: 0.2263 - val_accuracy: 0.0000e+00\n",
      "Epoch 33/100\n",
      "52/52 [==============================] - 0s 2ms/step - loss: 0.2076 - accuracy: 0.0000e+00 - val_loss: 0.2369 - val_accuracy: 0.0000e+00\n",
      "Epoch 34/100\n",
      "52/52 [==============================] - 0s 2ms/step - loss: 0.2337 - accuracy: 0.0000e+00 - val_loss: 0.2238 - val_accuracy: 0.0000e+00\n",
      "Epoch 35/100\n",
      "52/52 [==============================] - 0s 2ms/step - loss: 0.2256 - accuracy: 0.0000e+00 - val_loss: 0.2298 - val_accuracy: 0.0000e+00\n",
      "Epoch 36/100\n",
      "52/52 [==============================] - 0s 2ms/step - loss: 0.2119 - accuracy: 0.0000e+00 - val_loss: 0.2506 - val_accuracy: 0.0000e+00\n",
      "Epoch 37/100\n",
      "52/52 [==============================] - 0s 2ms/step - loss: 0.2431 - accuracy: 0.0000e+00 - val_loss: 0.2628 - val_accuracy: 0.0000e+00\n",
      "Epoch 38/100\n",
      "52/52 [==============================] - 0s 2ms/step - loss: 0.2257 - accuracy: 0.0000e+00 - val_loss: 0.2232 - val_accuracy: 0.0000e+00\n",
      "Epoch 39/100\n",
      "52/52 [==============================] - 0s 2ms/step - loss: 0.2308 - accuracy: 0.0000e+00 - val_loss: 0.2363 - val_accuracy: 0.0000e+00\n",
      "Epoch 40/100\n",
      "52/52 [==============================] - 0s 2ms/step - loss: 0.2132 - accuracy: 0.0000e+00 - val_loss: 0.2699 - val_accuracy: 0.0000e+00\n",
      "Epoch 41/100\n",
      "52/52 [==============================] - 0s 2ms/step - loss: 0.2067 - accuracy: 0.0000e+00 - val_loss: 0.2320 - val_accuracy: 0.0000e+00\n",
      "Epoch 42/100\n",
      "52/52 [==============================] - 0s 2ms/step - loss: 0.2177 - accuracy: 0.0000e+00 - val_loss: 0.2072 - val_accuracy: 0.0000e+00\n",
      "Epoch 43/100\n",
      "52/52 [==============================] - 0s 2ms/step - loss: 0.1983 - accuracy: 0.0000e+00 - val_loss: 0.2111 - val_accuracy: 0.0000e+00\n",
      "Epoch 44/100\n"
     ]
    },
    {
     "name": "stdout",
     "output_type": "stream",
     "text": [
      "52/52 [==============================] - 0s 2ms/step - loss: 0.2163 - accuracy: 0.0000e+00 - val_loss: 0.2155 - val_accuracy: 0.0000e+00\n",
      "Epoch 45/100\n",
      "52/52 [==============================] - 0s 2ms/step - loss: 0.2021 - accuracy: 0.0000e+00 - val_loss: 0.2260 - val_accuracy: 0.0000e+00\n",
      "Epoch 46/100\n",
      "52/52 [==============================] - 0s 2ms/step - loss: 0.2033 - accuracy: 0.0000e+00 - val_loss: 0.2162 - val_accuracy: 0.0000e+00\n",
      "Epoch 47/100\n",
      "52/52 [==============================] - 0s 2ms/step - loss: 0.1773 - accuracy: 0.0000e+00 - val_loss: 0.2316 - val_accuracy: 0.0000e+00\n",
      "Epoch 48/100\n",
      "52/52 [==============================] - 0s 2ms/step - loss: 0.2038 - accuracy: 0.0000e+00 - val_loss: 0.2549 - val_accuracy: 0.0000e+00\n",
      "Epoch 49/100\n",
      "52/52 [==============================] - 0s 2ms/step - loss: 0.1897 - accuracy: 0.0000e+00 - val_loss: 0.2405 - val_accuracy: 0.0000e+00\n",
      "Epoch 50/100\n",
      "52/52 [==============================] - 0s 2ms/step - loss: 0.2005 - accuracy: 0.0000e+00 - val_loss: 0.2365 - val_accuracy: 0.0000e+00\n",
      "Epoch 51/100\n",
      "52/52 [==============================] - 0s 2ms/step - loss: 0.2062 - accuracy: 0.0000e+00 - val_loss: 0.2072 - val_accuracy: 0.0000e+00\n",
      "Epoch 52/100\n",
      "52/52 [==============================] - 0s 2ms/step - loss: 0.2007 - accuracy: 0.0000e+00 - val_loss: 0.2259 - val_accuracy: 0.0000e+00\n",
      "Epoch 53/100\n",
      "52/52 [==============================] - 0s 2ms/step - loss: 0.1858 - accuracy: 0.0000e+00 - val_loss: 0.2334 - val_accuracy: 0.0000e+00\n",
      "Epoch 54/100\n",
      "52/52 [==============================] - 0s 2ms/step - loss: 0.1953 - accuracy: 0.0000e+00 - val_loss: 0.2331 - val_accuracy: 0.0000e+00\n",
      "Epoch 55/100\n",
      "52/52 [==============================] - 0s 2ms/step - loss: 0.2068 - accuracy: 0.0000e+00 - val_loss: 0.2309 - val_accuracy: 0.0000e+00\n",
      "Epoch 56/100\n",
      "52/52 [==============================] - 0s 2ms/step - loss: 0.1785 - accuracy: 0.0000e+00 - val_loss: 0.2226 - val_accuracy: 0.0000e+00\n",
      "Epoch 57/100\n",
      "52/52 [==============================] - 0s 2ms/step - loss: 0.2002 - accuracy: 0.0000e+00 - val_loss: 0.2160 - val_accuracy: 0.0000e+00\n",
      "Epoch 58/100\n",
      "52/52 [==============================] - 0s 2ms/step - loss: 0.1942 - accuracy: 0.0000e+00 - val_loss: 0.2189 - val_accuracy: 0.0000e+00\n",
      "Epoch 59/100\n",
      "52/52 [==============================] - 0s 2ms/step - loss: 0.2139 - accuracy: 0.0000e+00 - val_loss: 0.2150 - val_accuracy: 0.0000e+00\n",
      "Epoch 60/100\n",
      "52/52 [==============================] - 0s 2ms/step - loss: 0.1928 - accuracy: 0.0000e+00 - val_loss: 0.2119 - val_accuracy: 0.0000e+00\n",
      "Epoch 61/100\n",
      "52/52 [==============================] - 0s 2ms/step - loss: 0.1692 - accuracy: 0.0000e+00 - val_loss: 0.2122 - val_accuracy: 0.0000e+00\n",
      "Epoch 62/100\n",
      "52/52 [==============================] - 0s 2ms/step - loss: 0.1884 - accuracy: 0.0000e+00 - val_loss: 0.2475 - val_accuracy: 0.0000e+00\n",
      "Epoch 63/100\n",
      "52/52 [==============================] - 0s 2ms/step - loss: 0.1822 - accuracy: 0.0000e+00 - val_loss: 0.2307 - val_accuracy: 0.0000e+00\n",
      "Epoch 64/100\n",
      "52/52 [==============================] - 0s 2ms/step - loss: 0.1663 - accuracy: 0.0000e+00 - val_loss: 0.2269 - val_accuracy: 0.0000e+00\n",
      "Epoch 65/100\n",
      "52/52 [==============================] - 0s 2ms/step - loss: 0.1966 - accuracy: 0.0000e+00 - val_loss: 0.2670 - val_accuracy: 0.0000e+00\n",
      "Epoch 66/100\n",
      "52/52 [==============================] - 0s 2ms/step - loss: 0.1724 - accuracy: 0.0000e+00 - val_loss: 0.2192 - val_accuracy: 0.0000e+00\n",
      "Epoch 67/100\n",
      "52/52 [==============================] - 0s 2ms/step - loss: 0.1656 - accuracy: 0.0000e+00 - val_loss: 0.2209 - val_accuracy: 0.0000e+00\n",
      "Epoch 68/100\n",
      "52/52 [==============================] - 0s 2ms/step - loss: 0.1822 - accuracy: 0.0000e+00 - val_loss: 0.2151 - val_accuracy: 0.0000e+00\n",
      "Epoch 69/100\n",
      "52/52 [==============================] - 0s 2ms/step - loss: 0.1674 - accuracy: 0.0000e+00 - val_loss: 0.2370 - val_accuracy: 0.0000e+00\n",
      "Epoch 70/100\n",
      "52/52 [==============================] - 0s 2ms/step - loss: 0.1586 - accuracy: 0.0000e+00 - val_loss: 0.2213 - val_accuracy: 0.0000e+00\n",
      "Epoch 71/100\n",
      "52/52 [==============================] - 0s 3ms/step - loss: 0.1878 - accuracy: 0.0000e+00 - val_loss: 0.2374 - val_accuracy: 0.0000e+00\n",
      "Epoch 72/100\n",
      "52/52 [==============================] - 0s 2ms/step - loss: 0.1603 - accuracy: 0.0000e+00 - val_loss: 0.2222 - val_accuracy: 0.0000e+00\n",
      "Epoch 73/100\n",
      "52/52 [==============================] - 0s 2ms/step - loss: 0.2105 - accuracy: 0.0000e+00 - val_loss: 0.2219 - val_accuracy: 0.0000e+00\n",
      "Epoch 74/100\n",
      "52/52 [==============================] - 0s 2ms/step - loss: 0.1782 - accuracy: 0.0000e+00 - val_loss: 0.2099 - val_accuracy: 0.0000e+00\n",
      "Epoch 75/100\n",
      "52/52 [==============================] - 0s 3ms/step - loss: 0.1640 - accuracy: 0.0000e+00 - val_loss: 0.2481 - val_accuracy: 0.0000e+00\n",
      "Epoch 76/100\n",
      "52/52 [==============================] - 0s 3ms/step - loss: 0.1802 - accuracy: 0.0000e+00 - val_loss: 0.2226 - val_accuracy: 0.0000e+00\n",
      "Epoch 77/100\n",
      "52/52 [==============================] - 0s 2ms/step - loss: 0.1917 - accuracy: 0.0000e+00 - val_loss: 0.2295 - val_accuracy: 0.0000e+00\n",
      "Epoch 78/100\n",
      "52/52 [==============================] - 0s 2ms/step - loss: 0.1676 - accuracy: 0.0000e+00 - val_loss: 0.2151 - val_accuracy: 0.0000e+00\n",
      "Epoch 79/100\n",
      "52/52 [==============================] - 0s 2ms/step - loss: 0.1640 - accuracy: 0.0000e+00 - val_loss: 0.2329 - val_accuracy: 0.0000e+00\n",
      "Epoch 80/100\n",
      "52/52 [==============================] - 0s 3ms/step - loss: 0.1965 - accuracy: 0.0000e+00 - val_loss: 0.2249 - val_accuracy: 0.0000e+00\n",
      "Epoch 81/100\n",
      "52/52 [==============================] - 0s 3ms/step - loss: 0.1979 - accuracy: 0.0000e+00 - val_loss: 0.2362 - val_accuracy: 0.0000e+00\n",
      "Epoch 82/100\n",
      "52/52 [==============================] - 0s 2ms/step - loss: 0.1767 - accuracy: 0.0000e+00 - val_loss: 0.2707 - val_accuracy: 0.0000e+00\n",
      "Epoch 83/100\n",
      "52/52 [==============================] - 0s 2ms/step - loss: 0.1594 - accuracy: 0.0000e+00 - val_loss: 0.2158 - val_accuracy: 0.0000e+00\n",
      "Epoch 84/100\n",
      "52/52 [==============================] - 0s 2ms/step - loss: 0.1563 - accuracy: 0.0000e+00 - val_loss: 0.2266 - val_accuracy: 0.0000e+00\n",
      "Epoch 85/100\n",
      "52/52 [==============================] - 0s 3ms/step - loss: 0.1466 - accuracy: 0.0000e+00 - val_loss: 0.2597 - val_accuracy: 0.0000e+00\n",
      "Epoch 86/100\n",
      "52/52 [==============================] - 0s 3ms/step - loss: 0.1614 - accuracy: 0.0000e+00 - val_loss: 0.2132 - val_accuracy: 0.0000e+00\n",
      "Epoch 87/100\n",
      "52/52 [==============================] - 0s 2ms/step - loss: 0.1413 - accuracy: 0.0000e+00 - val_loss: 0.2377 - val_accuracy: 0.0000e+00\n",
      "Epoch 88/100\n",
      "52/52 [==============================] - 0s 2ms/step - loss: 0.1597 - accuracy: 0.0000e+00 - val_loss: 0.2308 - val_accuracy: 0.0000e+00\n",
      "Epoch 89/100\n",
      "52/52 [==============================] - 0s 2ms/step - loss: 0.2069 - accuracy: 0.0000e+00 - val_loss: 0.2384 - val_accuracy: 0.0000e+00\n",
      "Epoch 90/100\n",
      "52/52 [==============================] - 0s 2ms/step - loss: 0.1779 - accuracy: 0.0000e+00 - val_loss: 0.2473 - val_accuracy: 0.0000e+00\n",
      "Epoch 91/100\n",
      "52/52 [==============================] - 0s 2ms/step - loss: 0.1666 - accuracy: 0.0000e+00 - val_loss: 0.2474 - val_accuracy: 0.0000e+00\n",
      "Epoch 92/100\n",
      "52/52 [==============================] - 0s 3ms/step - loss: 0.1611 - accuracy: 0.0000e+00 - val_loss: 0.2674 - val_accuracy: 0.0000e+00\n",
      "Epoch 93/100\n",
      "52/52 [==============================] - 0s 3ms/step - loss: 0.1549 - accuracy: 0.0000e+00 - val_loss: 0.2308 - val_accuracy: 0.0000e+00\n",
      "Epoch 94/100\n",
      "52/52 [==============================] - 0s 3ms/step - loss: 0.1455 - accuracy: 0.0000e+00 - val_loss: 0.2691 - val_accuracy: 0.0000e+00\n",
      "Epoch 95/100\n",
      "52/52 [==============================] - 0s 2ms/step - loss: 0.1460 - accuracy: 0.0000e+00 - val_loss: 0.2660 - val_accuracy: 0.0000e+00\n",
      "Epoch 96/100\n",
      "52/52 [==============================] - 0s 2ms/step - loss: 0.1325 - accuracy: 0.0000e+00 - val_loss: 0.2298 - val_accuracy: 0.0000e+00\n",
      "Epoch 97/100\n",
      "52/52 [==============================] - 0s 2ms/step - loss: 0.1684 - accuracy: 0.0000e+00 - val_loss: 0.2409 - val_accuracy: 0.0000e+00\n",
      "Epoch 98/100\n",
      "52/52 [==============================] - 0s 2ms/step - loss: 0.1651 - accuracy: 0.0000e+00 - val_loss: 0.2491 - val_accuracy: 0.0000e+00\n"
     ]
    },
    {
     "name": "stdout",
     "output_type": "stream",
     "text": [
      "Epoch 99/100\n",
      "52/52 [==============================] - 0s 2ms/step - loss: 0.1689 - accuracy: 0.0000e+00 - val_loss: 0.2359 - val_accuracy: 0.0000e+00\n",
      "Epoch 100/100\n",
      "52/52 [==============================] - 0s 2ms/step - loss: 0.1459 - accuracy: 0.0000e+00 - val_loss: 0.2453 - val_accuracy: 0.0000e+00\n"
     ]
    },
    {
     "data": {
      "image/png": "[encoded data removed]",
      "text/plain": [
       "<Figure size 432x288 with 1 Axes>"
      ]
     },
     "metadata": {
      "needs_background": "light"
     },
     "output_type": "display_data"
    }
   ],
   "source": [
    "\n",
    "#Experiment with deeper and wider networks\n",
    "model_ann = Sequential()\n",
    "#Input layer\n",
    "model_ann.add(Dense(50, input_dim=6, activation='relu'))\n",
    "model_ann.add(Dense(8, activation='relu'))\n",
    "model_ann.add(Dense(32, activation='relu'))\n",
    "model_ann.add(Dense(64, activation='relu'))\n",
    "#\n",
    "\n",
    "model_ann.add(Dense(64, activation='relu'))\n",
    "\n",
    "model_ann.add(Dropout(0.10))\n",
    "model_ann.add(Dense(64, activation='relu'))\n",
    "model_ann.add(Dropout(0.1))\n",
    "model_ann.add(Dense(128, activation='relu'))\n",
    "\n",
    "#Output layerr\n",
    "model_ann.add(Dense(1, activation='linear'))\n",
    "\n",
    "model_ann.compile(optimizer='adam',loss='mean_squared_error',  metrics=['accuracy'])\n",
    "model_ann.summary()\n",
    "\n",
    "history = model_ann.fit(X_train, y_train, validation_split=0.2, epochs =100)\n",
    "\n",
    "from matplotlib import pyplot as plt\n",
    "#plot the training and validation accuracy and loss at each epoch\n",
    "loss = history.history['loss']\n",
    "val_loss = history.history['val_loss']\n",
    "epochs = range(1, len(loss) + 1)\n",
    "plt.plot(epochs, loss, 'y', label='Training loss')\n",
    "plt.plot(epochs, val_loss, 'r', label='Validation loss')\n",
    "plt.title('Training and validation loss')\n",
    "plt.xlabel('Epochs')\n",
    "plt.ylabel('Loss')\n",
    "plt.legend()\n",
    "plt.show()"
   ]
  },
  {
   "cell_type": "code",
   "execution_count": 260,
   "id": "f0f07da2",
   "metadata": {},
   "outputs": [
    {
     "name": "stdout",
     "output_type": "stream",
     "text": [
      "65/65 [==============================] - 0s 666us/step\n",
      "17/17 [==============================] - 0s 699us/step\n",
      "Train set accuracy:  0.8455446212655199\n",
      "Test set accuracy :  0.5471863824802212\n"
     ]
    }
   ],
   "source": [
    "Y_train_predicted = model_ann.predict(X_train)\n",
    "Y_test_predicted = model_ann.predict(X_test)\n",
    "print(\"Train set accuracy: \",r2_score(y_train,Y_train_predicted))\n",
    "print(\"Test set accuracy : \",r2_score(y_test,Y_test_predicted))"
   ]
  },
  {
   "cell_type": "code",
   "execution_count": 261,
   "id": "467668f4",
   "metadata": {},
   "outputs": [],
   "source": [
    "# Result = pd.DataFrame({'actaul':y_test,'predicted':Y_test_predicted})\n",
    "# Result.head(29)"
   ]
  },
  {
   "cell_type": "markdown",
   "id": "0f0eeb0c",
   "metadata": {},
   "source": [
    "Linear regression algorithm"
   ]
  },
  {
   "cell_type": "code",
   "execution_count": 262,
   "id": "547271ed",
   "metadata": {},
   "outputs": [
    {
     "data": {
      "text/html": [
       "<style>#sk-container-id-21 {color: black;background-color: white;}#sk-container-id-21 pre{padding: 0;}#sk-container-id-21 div.sk-toggleable {background-color: white;}#sk-container-id-21 label.sk-toggleable__label {cursor: pointer;display: block;width: 100%;margin-bottom: 0;padding: 0.3em;box-sizing: border-box;text-align: center;}#sk-container-id-21 label.sk-toggleable__label-arrow:before {content: \"▸\";float: left;margin-right: 0.25em;color: #696969;}#sk-container-id-21 label.sk-toggleable__label-arrow:hover:before {color: black;}#sk-container-id-21 div.sk-estimator:hover label.sk-toggleable__label-arrow:before {color: black;}#sk-container-id-21 div.sk-toggleable__content {max-height: 0;max-width: 0;overflow: hidden;text-align: left;background-color: #f0f8ff;}#sk-container-id-21 div.sk-toggleable__content pre {margin: 0.2em;color: black;border-radius: 0.25em;background-color: #f0f8ff;}#sk-container-id-21 input.sk-toggleable__control:checked~div.sk-toggleable__content {max-height: 200px;max-width: 100%;overflow: auto;}#sk-container-id-21 input.sk-toggleable__control:checked~label.sk-toggleable__label-arrow:before {content: \"▾\";}#sk-container-id-21 div.sk-estimator input.sk-toggleable__control:checked~label.sk-toggleable__label {background-color: #d4ebff;}#sk-container-id-21 div.sk-label input.sk-toggleable__control:checked~label.sk-toggleable__label {background-color: #d4ebff;}#sk-container-id-21 input.sk-hidden--visually {border: 0;clip: rect(1px 1px 1px 1px);clip: rect(1px, 1px, 1px, 1px);height: 1px;margin: -1px;overflow: hidden;padding: 0;position: absolute;width: 1px;}#sk-container-id-21 div.sk-estimator {font-family: monospace;background-color: #f0f8ff;border: 1px dotted black;border-radius: 0.25em;box-sizing: border-box;margin-bottom: 0.5em;}#sk-container-id-21 div.sk-estimator:hover {background-color: #d4ebff;}#sk-container-id-21 div.sk-parallel-item::after {content: \"\";width: 100%;border-bottom: 1px solid gray;flex-grow: 1;}#sk-container-id-21 div.sk-label:hover label.sk-toggleable__label {background-color: #d4ebff;}#sk-container-id-21 div.sk-serial::before {content: \"\";position: absolute;border-left: 1px solid gray;box-sizing: border-box;top: 0;bottom: 0;left: 50%;z-index: 0;}#sk-container-id-21 div.sk-serial {display: flex;flex-direction: column;align-items: center;background-color: white;padding-right: 0.2em;padding-left: 0.2em;position: relative;}#sk-container-id-21 div.sk-item {position: relative;z-index: 1;}#sk-container-id-21 div.sk-parallel {display: flex;align-items: stretch;justify-content: center;background-color: white;position: relative;}#sk-container-id-21 div.sk-item::before, #sk-container-id-21 div.sk-parallel-item::before {content: \"\";position: absolute;border-left: 1px solid gray;box-sizing: border-box;top: 0;bottom: 0;left: 50%;z-index: -1;}#sk-container-id-21 div.sk-parallel-item {display: flex;flex-direction: column;z-index: 1;position: relative;background-color: white;}#sk-container-id-21 div.sk-parallel-item:first-child::after {align-self: flex-end;width: 50%;}#sk-container-id-21 div.sk-parallel-item:last-child::after {align-self: flex-start;width: 50%;}#sk-container-id-21 div.sk-parallel-item:only-child::after {width: 0;}#sk-container-id-21 div.sk-dashed-wrapped {border: 1px dashed gray;margin: 0 0.4em 0.5em 0.4em;box-sizing: border-box;padding-bottom: 0.4em;background-color: white;}#sk-container-id-21 div.sk-label label {font-family: monospace;font-weight: bold;display: inline-block;line-height: 1.2em;}#sk-container-id-21 div.sk-label-container {text-align: center;}#sk-container-id-21 div.sk-container {/* jupyter's `normalize.less` sets `[hidden] { display: none; }` but bootstrap.min.css set `[hidden] { display: none !important; }` so we also need the `!important` here to be able to override the default hidden behavior on the sphinx rendered scikit-learn.org. See: https://github.com/scikit-learn/scikit-learn/issues/21755 */display: inline-block !important;position: relative;}#sk-container-id-21 div.sk-text-repr-fallback {display: none;}</style><div id=\"sk-container-id-21\" class=\"sk-top-container\"><div class=\"sk-text-repr-fallback\"><pre>LinearRegression()</pre><b>In a Jupyter environment, please rerun this cell to show the HTML representation or trust the notebook. <br />On GitHub, the HTML representation is unable to render, please try loading this page with nbviewer.org.</b></div><div class=\"sk-container\" hidden><div class=\"sk-item\"><div class=\"sk-estimator sk-toggleable\"><input class=\"sk-toggleable__control sk-hidden--visually\" id=\"sk-estimator-id-21\" type=\"checkbox\" checked><label for=\"sk-estimator-id-21\" class=\"sk-toggleable__label sk-toggleable__label-arrow\">LinearRegression</label><div class=\"sk-toggleable__content\"><pre>LinearRegression()</pre></div></div></div></div></div>"
      ],
      "text/plain": [
       "LinearRegression()"
      ]
     },
     "execution_count": 262,
     "metadata": {},
     "output_type": "execute_result"
    }
   ],
   "source": [
    "model_LR = LinearRegression()\n",
    "model_LR"
   ]
  },
  {
   "cell_type": "code",
   "execution_count": 263,
   "id": "f3fc742f",
   "metadata": {},
   "outputs": [],
   "source": [
    "model_LR.fit(X_train,y_train)\n",
    "#prediction\n",
    "y_pred=model_LR.predict(X_test)\n"
   ]
  },
  {
   "cell_type": "code",
   "execution_count": 264,
   "id": "694542ba",
   "metadata": {},
   "outputs": [
    {
     "name": "stdout",
     "output_type": "stream",
     "text": [
      "Train set accuracy:  0.3874829403746104\n",
      "Test set accuracy :  0.28630188213889807\n",
      "mse: 0.9227267754331077\n",
      "root_mean_squared error of is== 0.9605866829355421\n"
     ]
    }
   ],
   "source": [
    "#Accuracy\n",
    "Y_train_predicted = model_LR.predict(X_train)\n",
    "Y_test_predicted = model_LR.predict(X_test)\n",
    "print(\"Train set accuracy: \",r2_score(y_train,Y_train_predicted))\n",
    "print(\"Test set accuracy : \",r2_score(y_test,Y_test_predicted))\n",
    "print(\"mse:\",mean_squared_error(y_test,y_pred))\n",
    "print('root_mean_squared error of is==',np.sqrt(mean_squared_error(y_test,y_pred)))    "
   ]
  },
  {
   "cell_type": "markdown",
   "id": "d9932550",
   "metadata": {},
   "source": [
    "KNN Algorithms"
   ]
  },
  {
   "cell_type": "code",
   "execution_count": 265,
   "id": "1f0b3f2a",
   "metadata": {},
   "outputs": [],
   "source": [
    "from sklearn.neighbors import KNeighborsRegressor"
   ]
  },
  {
   "cell_type": "code",
   "execution_count": 266,
   "id": "d6e90a9e",
   "metadata": {},
   "outputs": [
    {
     "data": {
      "text/html": [
       "<style>#sk-container-id-22 {color: black;background-color: white;}#sk-container-id-22 pre{padding: 0;}#sk-container-id-22 div.sk-toggleable {background-color: white;}#sk-container-id-22 label.sk-toggleable__label {cursor: pointer;display: block;width: 100%;margin-bottom: 0;padding: 0.3em;box-sizing: border-box;text-align: center;}#sk-container-id-22 label.sk-toggleable__label-arrow:before {content: \"▸\";float: left;margin-right: 0.25em;color: #696969;}#sk-container-id-22 label.sk-toggleable__label-arrow:hover:before {color: black;}#sk-container-id-22 div.sk-estimator:hover label.sk-toggleable__label-arrow:before {color: black;}#sk-container-id-22 div.sk-toggleable__content {max-height: 0;max-width: 0;overflow: hidden;text-align: left;background-color: #f0f8ff;}#sk-container-id-22 div.sk-toggleable__content pre {margin: 0.2em;color: black;border-radius: 0.25em;background-color: #f0f8ff;}#sk-container-id-22 input.sk-toggleable__control:checked~div.sk-toggleable__content {max-height: 200px;max-width: 100%;overflow: auto;}#sk-container-id-22 input.sk-toggleable__control:checked~label.sk-toggleable__label-arrow:before {content: \"▾\";}#sk-container-id-22 div.sk-estimator input.sk-toggleable__control:checked~label.sk-toggleable__label {background-color: #d4ebff;}#sk-container-id-22 div.sk-label input.sk-toggleable__control:checked~label.sk-toggleable__label {background-color: #d4ebff;}#sk-container-id-22 input.sk-hidden--visually {border: 0;clip: rect(1px 1px 1px 1px);clip: rect(1px, 1px, 1px, 1px);height: 1px;margin: -1px;overflow: hidden;padding: 0;position: absolute;width: 1px;}#sk-container-id-22 div.sk-estimator {font-family: monospace;background-color: #f0f8ff;border: 1px dotted black;border-radius: 0.25em;box-sizing: border-box;margin-bottom: 0.5em;}#sk-container-id-22 div.sk-estimator:hover {background-color: #d4ebff;}#sk-container-id-22 div.sk-parallel-item::after {content: \"\";width: 100%;border-bottom: 1px solid gray;flex-grow: 1;}#sk-container-id-22 div.sk-label:hover label.sk-toggleable__label {background-color: #d4ebff;}#sk-container-id-22 div.sk-serial::before {content: \"\";position: absolute;border-left: 1px solid gray;box-sizing: border-box;top: 0;bottom: 0;left: 50%;z-index: 0;}#sk-container-id-22 div.sk-serial {display: flex;flex-direction: column;align-items: center;background-color: white;padding-right: 0.2em;padding-left: 0.2em;position: relative;}#sk-container-id-22 div.sk-item {position: relative;z-index: 1;}#sk-container-id-22 div.sk-parallel {display: flex;align-items: stretch;justify-content: center;background-color: white;position: relative;}#sk-container-id-22 div.sk-item::before, #sk-container-id-22 div.sk-parallel-item::before {content: \"\";position: absolute;border-left: 1px solid gray;box-sizing: border-box;top: 0;bottom: 0;left: 50%;z-index: -1;}#sk-container-id-22 div.sk-parallel-item {display: flex;flex-direction: column;z-index: 1;position: relative;background-color: white;}#sk-container-id-22 div.sk-parallel-item:first-child::after {align-self: flex-end;width: 50%;}#sk-container-id-22 div.sk-parallel-item:last-child::after {align-self: flex-start;width: 50%;}#sk-container-id-22 div.sk-parallel-item:only-child::after {width: 0;}#sk-container-id-22 div.sk-dashed-wrapped {border: 1px dashed gray;margin: 0 0.4em 0.5em 0.4em;box-sizing: border-box;padding-bottom: 0.4em;background-color: white;}#sk-container-id-22 div.sk-label label {font-family: monospace;font-weight: bold;display: inline-block;line-height: 1.2em;}#sk-container-id-22 div.sk-label-container {text-align: center;}#sk-container-id-22 div.sk-container {/* jupyter's `normalize.less` sets `[hidden] { display: none; }` but bootstrap.min.css set `[hidden] { display: none !important; }` so we also need the `!important` here to be able to override the default hidden behavior on the sphinx rendered scikit-learn.org. See: https://github.com/scikit-learn/scikit-learn/issues/21755 */display: inline-block !important;position: relative;}#sk-container-id-22 div.sk-text-repr-fallback {display: none;}</style><div id=\"sk-container-id-22\" class=\"sk-top-container\"><div class=\"sk-text-repr-fallback\"><pre>KNeighborsRegressor(n_neighbors=10)</pre><b>In a Jupyter environment, please rerun this cell to show the HTML representation or trust the notebook. <br />On GitHub, the HTML representation is unable to render, please try loading this page with nbviewer.org.</b></div><div class=\"sk-container\" hidden><div class=\"sk-item\"><div class=\"sk-estimator sk-toggleable\"><input class=\"sk-toggleable__control sk-hidden--visually\" id=\"sk-estimator-id-22\" type=\"checkbox\" checked><label for=\"sk-estimator-id-22\" class=\"sk-toggleable__label sk-toggleable__label-arrow\">KNeighborsRegressor</label><div class=\"sk-toggleable__content\"><pre>KNeighborsRegressor(n_neighbors=10)</pre></div></div></div></div></div>"
      ],
      "text/plain": [
       "KNeighborsRegressor(n_neighbors=10)"
      ]
     },
     "execution_count": 266,
     "metadata": {},
     "output_type": "execute_result"
    }
   ],
   "source": [
    "model_KNNR=KNeighborsRegressor(10)\n",
    "model_KNNR.fit(X_train,y_train)"
   ]
  },
  {
   "cell_type": "code",
   "execution_count": 267,
   "id": "10982a22",
   "metadata": {},
   "outputs": [],
   "source": [
    "K_pred=model_KNNR.predict(X_test)\n"
   ]
  },
  {
   "cell_type": "code",
   "execution_count": 268,
   "id": "02f8f9cf",
   "metadata": {},
   "outputs": [
    {
     "name": "stdout",
     "output_type": "stream",
     "text": [
      "Train set accuracy:  0.759102750806988\n",
      "Test set accuracy :  0.5771310865466496\n",
      "mse: 0.54671920687011\n",
      "root_mean_squared error of is== 0.73940463000316\n"
     ]
    }
   ],
   "source": [
    "#Accuracy\n",
    "Y_train_predicted = model_KNNR.predict(X_train)\n",
    "Y_test_predicted = model_KNNR.predict(X_test)\n",
    "print(\"Train set accuracy: \",r2_score(y_train,Y_train_predicted))\n",
    "print(\"Test set accuracy : \",r2_score(y_test,Y_test_predicted))\n",
    "print(\"mse:\",mean_squared_error(y_test,Y_test_predicted))\n",
    "print('root_mean_squared error of is==',np.sqrt(mean_squared_error(y_test,Y_test_predicted))) "
   ]
  },
  {
   "cell_type": "code",
   "execution_count": 269,
   "id": "1273152d",
   "metadata": {},
   "outputs": [
    {
     "name": "stdout",
     "output_type": "stream",
     "text": [
      "\n"
     ]
    },
    {
     "data": {
      "text/html": [
       "<div>\n",
       "<style scoped>\n",
       "    .dataframe tbody tr th:only-of-type {\n",
       "        vertical-align: middle;\n",
       "    }\n",
       "\n",
       "    .dataframe tbody tr th {\n",
       "        vertical-align: top;\n",
       "    }\n",
       "\n",
       "    .dataframe thead th {\n",
       "        text-align: right;\n",
       "    }\n",
       "</style>\n",
       "<table border=\"1\" class=\"dataframe\">\n",
       "  <thead>\n",
       "    <tr style=\"text-align: right;\">\n",
       "      <th></th>\n",
       "      <th>actaul</th>\n",
       "      <th>predicted</th>\n",
       "    </tr>\n",
       "  </thead>\n",
       "  <tbody>\n",
       "    <tr>\n",
       "      <th>2401</th>\n",
       "      <td>-0.291836</td>\n",
       "      <td>-0.585243</td>\n",
       "    </tr>\n",
       "    <tr>\n",
       "      <th>812</th>\n",
       "      <td>0.945058</td>\n",
       "      <td>0.188304</td>\n",
       "    </tr>\n",
       "    <tr>\n",
       "      <th>2528</th>\n",
       "      <td>-0.621757</td>\n",
       "      <td>-0.489850</td>\n",
       "    </tr>\n",
       "    <tr>\n",
       "      <th>443</th>\n",
       "      <td>-0.486452</td>\n",
       "      <td>-0.575914</td>\n",
       "    </tr>\n",
       "    <tr>\n",
       "      <th>1857</th>\n",
       "      <td>-0.357326</td>\n",
       "      <td>0.192604</td>\n",
       "    </tr>\n",
       "    <tr>\n",
       "      <th>1397</th>\n",
       "      <td>1.772950</td>\n",
       "      <td>2.648599</td>\n",
       "    </tr>\n",
       "    <tr>\n",
       "      <th>1328</th>\n",
       "      <td>-0.336320</td>\n",
       "      <td>0.373443</td>\n",
       "    </tr>\n",
       "    <tr>\n",
       "      <th>745</th>\n",
       "      <td>-0.114519</td>\n",
       "      <td>-0.115940</td>\n",
       "    </tr>\n",
       "    <tr>\n",
       "      <th>1246</th>\n",
       "      <td>-0.624846</td>\n",
       "      <td>-0.598712</td>\n",
       "    </tr>\n",
       "    <tr>\n",
       "      <th>215</th>\n",
       "      <td>-0.612489</td>\n",
       "      <td>-0.528526</td>\n",
       "    </tr>\n",
       "    <tr>\n",
       "      <th>2189</th>\n",
       "      <td>0.756620</td>\n",
       "      <td>0.296152</td>\n",
       "    </tr>\n",
       "    <tr>\n",
       "      <th>2303</th>\n",
       "      <td>-0.617432</td>\n",
       "      <td>-0.573690</td>\n",
       "    </tr>\n",
       "    <tr>\n",
       "      <th>981</th>\n",
       "      <td>-0.251059</td>\n",
       "      <td>-0.512216</td>\n",
       "    </tr>\n",
       "    <tr>\n",
       "      <th>1489</th>\n",
       "      <td>2.592191</td>\n",
       "      <td>2.919888</td>\n",
       "    </tr>\n",
       "    <tr>\n",
       "      <th>1642</th>\n",
       "      <td>-0.469771</td>\n",
       "      <td>-0.414722</td>\n",
       "    </tr>\n",
       "    <tr>\n",
       "      <th>2554</th>\n",
       "      <td>-0.624846</td>\n",
       "      <td>-0.524510</td>\n",
       "    </tr>\n",
       "    <tr>\n",
       "      <th>641</th>\n",
       "      <td>0.004104</td>\n",
       "      <td>-0.474713</td>\n",
       "    </tr>\n",
       "    <tr>\n",
       "      <th>1137</th>\n",
       "      <td>-0.188658</td>\n",
       "      <td>0.059153</td>\n",
       "    </tr>\n",
       "    <tr>\n",
       "      <th>713</th>\n",
       "      <td>-0.524758</td>\n",
       "      <td>-0.515243</td>\n",
       "    </tr>\n",
       "    <tr>\n",
       "      <th>2536</th>\n",
       "      <td>0.828289</td>\n",
       "      <td>0.633116</td>\n",
       "    </tr>\n",
       "  </tbody>\n",
       "</table>\n",
       "</div>"
      ],
      "text/plain": [
       "        actaul  predicted\n",
       "2401 -0.291836  -0.585243\n",
       "812   0.945058   0.188304\n",
       "2528 -0.621757  -0.489850\n",
       "443  -0.486452  -0.575914\n",
       "1857 -0.357326   0.192604\n",
       "1397  1.772950   2.648599\n",
       "1328 -0.336320   0.373443\n",
       "745  -0.114519  -0.115940\n",
       "1246 -0.624846  -0.598712\n",
       "215  -0.612489  -0.528526\n",
       "2189  0.756620   0.296152\n",
       "2303 -0.617432  -0.573690\n",
       "981  -0.251059  -0.512216\n",
       "1489  2.592191   2.919888\n",
       "1642 -0.469771  -0.414722\n",
       "2554 -0.624846  -0.524510\n",
       "641   0.004104  -0.474713\n",
       "1137 -0.188658   0.059153\n",
       "713  -0.524758  -0.515243\n",
       "2536  0.828289   0.633116"
      ]
     },
     "execution_count": 269,
     "metadata": {},
     "output_type": "execute_result"
    }
   ],
   "source": [
    "print()\n",
    "Result = pd.DataFrame({'actaul':y_test,'predicted':K_pred})\n",
    "Result.head(20)"
   ]
  },
  {
   "cell_type": "markdown",
   "id": "0a582275",
   "metadata": {},
   "source": [
    "Decision Tree"
   ]
  },
  {
   "cell_type": "code",
   "execution_count": 270,
   "id": "aaa3e46b",
   "metadata": {},
   "outputs": [
    {
     "data": {
      "text/html": [
       "<style>#sk-container-id-23 {color: black;background-color: white;}#sk-container-id-23 pre{padding: 0;}#sk-container-id-23 div.sk-toggleable {background-color: white;}#sk-container-id-23 label.sk-toggleable__label {cursor: pointer;display: block;width: 100%;margin-bottom: 0;padding: 0.3em;box-sizing: border-box;text-align: center;}#sk-container-id-23 label.sk-toggleable__label-arrow:before {content: \"▸\";float: left;margin-right: 0.25em;color: #696969;}#sk-container-id-23 label.sk-toggleable__label-arrow:hover:before {color: black;}#sk-container-id-23 div.sk-estimator:hover label.sk-toggleable__label-arrow:before {color: black;}#sk-container-id-23 div.sk-toggleable__content {max-height: 0;max-width: 0;overflow: hidden;text-align: left;background-color: #f0f8ff;}#sk-container-id-23 div.sk-toggleable__content pre {margin: 0.2em;color: black;border-radius: 0.25em;background-color: #f0f8ff;}#sk-container-id-23 input.sk-toggleable__control:checked~div.sk-toggleable__content {max-height: 200px;max-width: 100%;overflow: auto;}#sk-container-id-23 input.sk-toggleable__control:checked~label.sk-toggleable__label-arrow:before {content: \"▾\";}#sk-container-id-23 div.sk-estimator input.sk-toggleable__control:checked~label.sk-toggleable__label {background-color: #d4ebff;}#sk-container-id-23 div.sk-label input.sk-toggleable__control:checked~label.sk-toggleable__label {background-color: #d4ebff;}#sk-container-id-23 input.sk-hidden--visually {border: 0;clip: rect(1px 1px 1px 1px);clip: rect(1px, 1px, 1px, 1px);height: 1px;margin: -1px;overflow: hidden;padding: 0;position: absolute;width: 1px;}#sk-container-id-23 div.sk-estimator {font-family: monospace;background-color: #f0f8ff;border: 1px dotted black;border-radius: 0.25em;box-sizing: border-box;margin-bottom: 0.5em;}#sk-container-id-23 div.sk-estimator:hover {background-color: #d4ebff;}#sk-container-id-23 div.sk-parallel-item::after {content: \"\";width: 100%;border-bottom: 1px solid gray;flex-grow: 1;}#sk-container-id-23 div.sk-label:hover label.sk-toggleable__label {background-color: #d4ebff;}#sk-container-id-23 div.sk-serial::before {content: \"\";position: absolute;border-left: 1px solid gray;box-sizing: border-box;top: 0;bottom: 0;left: 50%;z-index: 0;}#sk-container-id-23 div.sk-serial {display: flex;flex-direction: column;align-items: center;background-color: white;padding-right: 0.2em;padding-left: 0.2em;position: relative;}#sk-container-id-23 div.sk-item {position: relative;z-index: 1;}#sk-container-id-23 div.sk-parallel {display: flex;align-items: stretch;justify-content: center;background-color: white;position: relative;}#sk-container-id-23 div.sk-item::before, #sk-container-id-23 div.sk-parallel-item::before {content: \"\";position: absolute;border-left: 1px solid gray;box-sizing: border-box;top: 0;bottom: 0;left: 50%;z-index: -1;}#sk-container-id-23 div.sk-parallel-item {display: flex;flex-direction: column;z-index: 1;position: relative;background-color: white;}#sk-container-id-23 div.sk-parallel-item:first-child::after {align-self: flex-end;width: 50%;}#sk-container-id-23 div.sk-parallel-item:last-child::after {align-self: flex-start;width: 50%;}#sk-container-id-23 div.sk-parallel-item:only-child::after {width: 0;}#sk-container-id-23 div.sk-dashed-wrapped {border: 1px dashed gray;margin: 0 0.4em 0.5em 0.4em;box-sizing: border-box;padding-bottom: 0.4em;background-color: white;}#sk-container-id-23 div.sk-label label {font-family: monospace;font-weight: bold;display: inline-block;line-height: 1.2em;}#sk-container-id-23 div.sk-label-container {text-align: center;}#sk-container-id-23 div.sk-container {/* jupyter's `normalize.less` sets `[hidden] { display: none; }` but bootstrap.min.css set `[hidden] { display: none !important; }` so we also need the `!important` here to be able to override the default hidden behavior on the sphinx rendered scikit-learn.org. See: https://github.com/scikit-learn/scikit-learn/issues/21755 */display: inline-block !important;position: relative;}#sk-container-id-23 div.sk-text-repr-fallback {display: none;}</style><div id=\"sk-container-id-23\" class=\"sk-top-container\"><div class=\"sk-text-repr-fallback\"><pre>DecisionTreeRegressor(max_depth=5)</pre><b>In a Jupyter environment, please rerun this cell to show the HTML representation or trust the notebook. <br />On GitHub, the HTML representation is unable to render, please try loading this page with nbviewer.org.</b></div><div class=\"sk-container\" hidden><div class=\"sk-item\"><div class=\"sk-estimator sk-toggleable\"><input class=\"sk-toggleable__control sk-hidden--visually\" id=\"sk-estimator-id-23\" type=\"checkbox\" checked><label for=\"sk-estimator-id-23\" class=\"sk-toggleable__label sk-toggleable__label-arrow\">DecisionTreeRegressor</label><div class=\"sk-toggleable__content\"><pre>DecisionTreeRegressor(max_depth=5)</pre></div></div></div></div></div>"
      ],
      "text/plain": [
       "DecisionTreeRegressor(max_depth=5)"
      ]
     },
     "execution_count": 270,
     "metadata": {},
     "output_type": "execute_result"
    }
   ],
   "source": [
    "from sklearn.tree import DecisionTreeRegressor\n",
    "model_decision = DecisionTreeRegressor(max_depth=5)\n",
    "model_decision.fit(X_train, y_train)"
   ]
  },
  {
   "cell_type": "code",
   "execution_count": 271,
   "id": "f0464189",
   "metadata": {},
   "outputs": [
    {
     "data": {
      "text/html": [
       "<div>\n",
       "<style scoped>\n",
       "    .dataframe tbody tr th:only-of-type {\n",
       "        vertical-align: middle;\n",
       "    }\n",
       "\n",
       "    .dataframe tbody tr th {\n",
       "        vertical-align: top;\n",
       "    }\n",
       "\n",
       "    .dataframe thead th {\n",
       "        text-align: right;\n",
       "    }\n",
       "</style>\n",
       "<table border=\"1\" class=\"dataframe\">\n",
       "  <thead>\n",
       "    <tr style=\"text-align: right;\">\n",
       "      <th></th>\n",
       "      <th>Places</th>\n",
       "      <th>Year</th>\n",
       "      <th>Month</th>\n",
       "      <th>Tmax</th>\n",
       "      <th>RH</th>\n",
       "      <th>WindSpeed</th>\n",
       "    </tr>\n",
       "  </thead>\n",
       "  <tbody>\n",
       "    <tr>\n",
       "      <th>2401</th>\n",
       "      <td>1.221600</td>\n",
       "      <td>-0.704983</td>\n",
       "      <td>-1.022223</td>\n",
       "      <td>-0.811746</td>\n",
       "      <td>-1.216645</td>\n",
       "      <td>-1.224425</td>\n",
       "    </tr>\n",
       "    <tr>\n",
       "      <th>812</th>\n",
       "      <td>1.570474</td>\n",
       "      <td>-1.334225</td>\n",
       "      <td>0.140006</td>\n",
       "      <td>0.854680</td>\n",
       "      <td>0.429922</td>\n",
       "      <td>-0.347389</td>\n",
       "    </tr>\n",
       "    <tr>\n",
       "      <th>2528</th>\n",
       "      <td>1.221600</td>\n",
       "      <td>0.868124</td>\n",
       "      <td>1.302235</td>\n",
       "      <td>-0.054580</td>\n",
       "      <td>-1.537815</td>\n",
       "      <td>-0.688086</td>\n",
       "    </tr>\n",
       "    <tr>\n",
       "      <th>443</th>\n",
       "      <td>0.523851</td>\n",
       "      <td>0.710814</td>\n",
       "      <td>-1.603338</td>\n",
       "      <td>-0.990291</td>\n",
       "      <td>-0.236067</td>\n",
       "      <td>-0.582193</td>\n",
       "    </tr>\n",
       "    <tr>\n",
       "      <th>1857</th>\n",
       "      <td>-0.522773</td>\n",
       "      <td>-1.176915</td>\n",
       "      <td>0.721121</td>\n",
       "      <td>0.636457</td>\n",
       "      <td>0.844911</td>\n",
       "      <td>-0.068407</td>\n",
       "    </tr>\n",
       "    <tr>\n",
       "      <th>...</th>\n",
       "      <td>...</td>\n",
       "      <td>...</td>\n",
       "      <td>...</td>\n",
       "      <td>...</td>\n",
       "      <td>...</td>\n",
       "      <td>...</td>\n",
       "    </tr>\n",
       "    <tr>\n",
       "      <th>2294</th>\n",
       "      <td>-0.173898</td>\n",
       "      <td>1.340056</td>\n",
       "      <td>-1.022223</td>\n",
       "      <td>-0.247951</td>\n",
       "      <td>-0.620936</td>\n",
       "      <td>0.698181</td>\n",
       "    </tr>\n",
       "    <tr>\n",
       "      <th>125</th>\n",
       "      <td>0.174976</td>\n",
       "      <td>-0.075740</td>\n",
       "      <td>0.140006</td>\n",
       "      <td>0.631498</td>\n",
       "      <td>1.668194</td>\n",
       "      <td>-0.500380</td>\n",
       "    </tr>\n",
       "    <tr>\n",
       "      <th>1418</th>\n",
       "      <td>-1.220522</td>\n",
       "      <td>-0.075740</td>\n",
       "      <td>-0.150551</td>\n",
       "      <td>0.639764</td>\n",
       "      <td>2.193623</td>\n",
       "      <td>-1.483045</td>\n",
       "    </tr>\n",
       "    <tr>\n",
       "      <th>2193</th>\n",
       "      <td>-0.173898</td>\n",
       "      <td>-0.075740</td>\n",
       "      <td>1.011678</td>\n",
       "      <td>0.065624</td>\n",
       "      <td>0.423229</td>\n",
       "      <td>-0.696731</td>\n",
       "    </tr>\n",
       "    <tr>\n",
       "      <th>2033</th>\n",
       "      <td>-0.522773</td>\n",
       "      <td>1.340056</td>\n",
       "      <td>-0.150551</td>\n",
       "      <td>0.917501</td>\n",
       "      <td>1.135402</td>\n",
       "      <td>-1.678050</td>\n",
       "    </tr>\n",
       "  </tbody>\n",
       "</table>\n",
       "<p>518 rows × 6 columns</p>\n",
       "</div>"
      ],
      "text/plain": [
       "        Places      Year     Month      Tmax        RH  WindSpeed\n",
       "2401  1.221600 -0.704983 -1.022223 -0.811746 -1.216645  -1.224425\n",
       "812   1.570474 -1.334225  0.140006  0.854680  0.429922  -0.347389\n",
       "2528  1.221600  0.868124  1.302235 -0.054580 -1.537815  -0.688086\n",
       "443   0.523851  0.710814 -1.603338 -0.990291 -0.236067  -0.582193\n",
       "1857 -0.522773 -1.176915  0.721121  0.636457  0.844911  -0.068407\n",
       "...        ...       ...       ...       ...       ...        ...\n",
       "2294 -0.173898  1.340056 -1.022223 -0.247951 -0.620936   0.698181\n",
       "125   0.174976 -0.075740  0.140006  0.631498  1.668194  -0.500380\n",
       "1418 -1.220522 -0.075740 -0.150551  0.639764  2.193623  -1.483045\n",
       "2193 -0.173898 -0.075740  1.011678  0.065624  0.423229  -0.696731\n",
       "2033 -0.522773  1.340056 -0.150551  0.917501  1.135402  -1.678050\n",
       "\n",
       "[518 rows x 6 columns]"
      ]
     },
     "execution_count": 271,
     "metadata": {},
     "output_type": "execute_result"
    }
   ],
   "source": [
    "X_test"
   ]
  },
  {
   "cell_type": "code",
   "execution_count": 272,
   "id": "ac859f30",
   "metadata": {},
   "outputs": [
    {
     "data": {
      "text/plain": [
       "array([-0.53316699,  0.1357546 , -0.60851578, -0.53316699,  0.1357546 ,\n",
       "        1.69289661,  0.50895205,  0.1357546 , -0.60206994, -0.53316699,\n",
       "        0.67208067, -0.60311344, -0.53316699,  2.62708237,  0.18653444,\n",
       "       -0.53316699, -0.09534169, -0.23094792, -0.09534169,  0.67208067,\n",
       "       -0.57619798,  0.67208067, -0.60311344,  1.87491955, -0.09534169,\n",
       "       -0.45997415, -0.09534169, -0.45997415,  0.1357546 , -0.42487334,\n",
       "       -0.42487334,  0.03051657,  0.50895205,  0.1357546 , -0.53316699,\n",
       "        0.1357546 , -0.3221095 , -0.23094792, -0.09534169, -0.09534169,\n",
       "       -0.09534169,  0.67208067,  3.77182157,  0.67208067, -0.09534169,\n",
       "       -0.60851578, -0.45997415, -0.42487334,  0.33130676, -0.55986726,\n",
       "        0.50895205, -0.60851578,  0.67208067, -0.09534169,  0.1357546 ,\n",
       "       -0.60311344, -0.45997415,  0.1357546 , -0.45997415, -0.09534169,\n",
       "        0.67208067, -0.09534169,  0.67208067,  0.11835758, -0.27785046,\n",
       "       -0.23094792,  0.11835758, -0.57619798,  2.62708237, -0.60289232,\n",
       "       -0.60311344,  0.50895205,  0.11835758, -0.09534169, -0.53316699,\n",
       "       -0.09534169, -0.09534169, -0.09534169, -0.09534169, -0.53316699,\n",
       "       -0.09534169, -0.53316699, -0.42487334,  0.1357546 , -0.60311344,\n",
       "        0.50895205, -0.09534169,  0.1357546 , -0.45997415, -0.09534169,\n",
       "        0.1357546 , -0.17609584, -0.53316699,  3.77182157, -0.60206994,\n",
       "       -0.09534169, -0.53316699, -0.53316699,  0.1357546 ,  0.50895205,\n",
       "        0.1357546 ,  0.1357546 , -0.60206994, -0.53316699, -0.09534169,\n",
       "        0.1357546 , -0.60289232, -0.57619798,  0.67208067, -0.09534169,\n",
       "       -0.09534169, -0.09534169,  1.87491955, -0.23094792, -0.23094792,\n",
       "       -0.09534169, -0.45997415, -0.3221095 , -0.60206994, -0.55986726,\n",
       "        0.10703473,  0.67208067, -0.42487334, -0.53316699, -0.55986726,\n",
       "        0.1357546 , -0.45997415, -0.53316699,  0.1357546 , -0.42487334,\n",
       "        0.1357546 ,  0.67208067,  0.50895205, -0.09534169, -0.53316699,\n",
       "       -0.53316699, -0.45997415,  0.67208067, -0.09534169, -0.45997415,\n",
       "        0.1357546 , -0.60311344, -0.55986726,  3.77182157, -0.53316699,\n",
       "       -0.23094792, -0.53316699, -0.09534169, -0.23094792,  0.1357546 ,\n",
       "        0.11835758, -0.53316699, -0.42487334,  0.1357546 ,  0.1357546 ,\n",
       "        0.1357546 , -0.53316699, -0.09534169, -0.09534169, -0.09534169,\n",
       "       -0.27785046, -0.17609584, -0.42487334,  0.1357546 ,  6.40193264,\n",
       "        0.67208067,  0.67208067,  0.50895205, -0.53316699, -0.09534169,\n",
       "       -0.53316699,  0.67208067, -0.09534169, -0.42487334, -0.17609584,\n",
       "        0.67208067, -0.09534169,  0.67208067,  0.1357546 , -0.53316699,\n",
       "        3.77182157,  0.1357546 , -0.53316699, -0.53316699, -0.57619798,\n",
       "        0.1357546 ,  0.50895205,  0.1357546 , -0.27785046, -0.09534169,\n",
       "       -0.09534169, -0.53316699,  0.1357546 ,  0.1357546 , -0.53316699,\n",
       "       -0.17609584, -0.53316699,  0.11835758, -0.53316699,  0.50895205,\n",
       "       -0.09534169,  0.1357546 , -0.53316699, -0.45997415, -0.45997415,\n",
       "       -0.53316699,  0.50895205,  0.1357546 ,  0.11835758, -0.55986726,\n",
       "        0.1357546 ,  0.67208067,  0.1357546 , -0.45997415, -0.09534169,\n",
       "        3.77182157, -0.53316699, -0.60206994,  0.1357546 , -0.60851578,\n",
       "        0.1357546 , -0.09534169, -0.60311344, -0.60311344,  0.1357546 ,\n",
       "        0.67208067,  0.1357546 ,  0.1357546 , -0.23094792, -0.60311344,\n",
       "        0.67208067,  0.1357546 , -0.27785046, -0.60851578,  0.18653444,\n",
       "       -0.23094792,  0.50895205, -0.23094792, -0.60206994,  3.77182157,\n",
       "       -0.53316699,  1.87491955, -0.60311344,  0.11835758, -0.09534169,\n",
       "       -0.09534169,  0.1357546 ,  0.1357546 ,  0.1357546 ,  0.1357546 ,\n",
       "       -0.45997415, -0.09534169, -0.53316699, -0.09534169,  0.67208067,\n",
       "       -0.09534169, -0.55986726, -0.23094792, -0.51421028,  0.11835758,\n",
       "        0.1357546 ,  0.1357546 , -0.45997415, -0.60206994, -0.09534169,\n",
       "        0.11835758, -0.09534169, -0.60851578, -0.53316699, -0.45997415,\n",
       "        0.1357546 , -0.53316699,  0.50895205,  0.1357546 , -0.45997415,\n",
       "       -0.09534169, -0.09534169, -0.53316699, -0.60289232, -0.60206994,\n",
       "       -0.53316699, -0.53316699, -0.60206994, -0.23094792, -0.53316699,\n",
       "       -0.60311344, -0.09534169, -0.60851578,  0.1357546 ,  0.1357546 ,\n",
       "        0.1357546 ,  0.1357546 , -0.17609584, -0.42487334, -0.60206994,\n",
       "       -0.09534169, -0.60311344, -0.09534169, -0.27785046, -0.53316699,\n",
       "       -0.09534169, -0.53316699,  0.1357546 ,  0.18653444, -0.09534169,\n",
       "       -0.60311344, -0.60206994, -0.23094792, -0.45997415, -0.09534169,\n",
       "        0.1357546 , -0.09534169, -0.60311344, -0.23094792,  0.33130676,\n",
       "        0.1357546 , -0.45997415, -0.23094792, -0.53316699, -0.09534169,\n",
       "        3.77182157,  0.1357546 , -0.09534169, -0.42487334, -0.42487334,\n",
       "       -0.51421028, -0.27785046, -0.60206994, -0.60311344,  0.1357546 ,\n",
       "        0.18653444,  1.87491955,  0.33130676, -0.45997415,  3.77182157,\n",
       "       -0.60311344, -0.09534169,  0.1357546 ,  0.67208067, -0.45997415,\n",
       "       -0.60851578, -0.42487334,  0.18653444, -0.60311344, -0.27785046,\n",
       "       -0.09534169, -0.09534169,  0.11835758,  0.1357546 , -0.53316699,\n",
       "       -0.55986726,  0.1357546 , -0.53316699, -0.09534169, -0.42487334,\n",
       "        0.50895205, -0.09534169, -0.53316699, -0.09534169,  0.1357546 ,\n",
       "        0.11835758, -0.53316699, -0.53316699,  0.67208067,  0.1357546 ,\n",
       "       -0.42487334, -0.45997415, -0.55986726,  0.1357546 , -0.23094792,\n",
       "        0.1357546 , -0.23094792,  0.67208067,  0.67208067,  0.67208067,\n",
       "       -0.17609584, -0.09534169, -0.60851578, -0.45997415,  0.1357546 ,\n",
       "       -0.60311344, -0.45997415, -0.53316699, -0.60311344, -0.09534169,\n",
       "        0.1357546 , -0.09534169,  1.87491955, -0.45997415,  0.1357546 ,\n",
       "       -0.09534169, -0.09534169, -0.53316699, -0.09534169,  0.1357546 ,\n",
       "       -0.42487334,  0.1357546 , -0.60311344, -0.53316699, -0.53316699,\n",
       "       -0.42487334,  1.87491955,  0.11835758, -0.45997415,  0.1357546 ,\n",
       "       -0.09534169,  0.1357546 , -0.09534169, -0.53316699, -0.09534169,\n",
       "       -0.60851578, -0.60851578, -0.60206994,  3.77182157, -0.42487334,\n",
       "       -0.57619798,  0.1357546 , -0.09534169, -0.53316699, -0.60311344,\n",
       "       -0.45997415, -0.53316699, -0.45997415, -0.53316699, -0.53316699,\n",
       "       -0.09534169,  0.33130676, -0.55986726, -0.09534169, -0.09534169,\n",
       "        0.1357546 ,  0.11835758, -0.3221095 , -0.53316699, -0.09534169,\n",
       "       -0.60311344,  3.77182157, -0.60311344,  0.1357546 , -0.55986726,\n",
       "        0.1357546 , -0.09534169, -0.53316699, -0.09534169, -0.60206994,\n",
       "        3.77182157,  0.1357546 ,  0.1357546 , -0.53316699, -0.09534169,\n",
       "       -0.53316699,  0.67208067, -0.42487334, -0.09534169, -0.57619798,\n",
       "       -0.09534169,  0.1357546 , -0.42487334, -0.60311344, -0.57619798,\n",
       "       -0.53316699,  0.1357546 , -0.27785046,  0.36139505, -0.09534169,\n",
       "        0.1357546 ,  0.18653444, -0.51421028, -0.51421028, -0.09534169,\n",
       "       -0.57619798, -0.23094792, -0.23094792, -0.23094792, -0.45997415,\n",
       "       -0.09534169,  0.67208067,  0.50895205, -0.53316699,  0.1357546 ,\n",
       "       -0.53316699,  0.1357546 , -0.60311344, -0.09534169, -0.42487334,\n",
       "        0.67208067, -0.45997415,  0.1357546 ,  0.67208067, -0.17609584,\n",
       "       -0.60851578, -0.60206994,  0.1357546 , -0.53316699, -0.09534169,\n",
       "        0.1357546 , -0.51421028, -0.23094792, -0.53316699, -0.42487334,\n",
       "        0.67208067,  0.1357546 , -0.45997415, -0.53316699, -0.42487334,\n",
       "       -0.09534169, -0.53316699, -0.09534169,  0.1357546 , -0.45997415,\n",
       "        0.67208067, -0.09534169, -0.60311344, -0.53316699,  0.67208067,\n",
       "        0.52555229,  0.1357546 ,  0.67208067])"
      ]
     },
     "execution_count": 272,
     "metadata": {},
     "output_type": "execute_result"
    }
   ],
   "source": [
    "K_pred=model_decision.predict(X_test)\n",
    "K_pred\n"
   ]
  },
  {
   "cell_type": "code",
   "execution_count": 273,
   "id": "80b42704",
   "metadata": {},
   "outputs": [
    {
     "data": {
      "text/plain": [
       "2401   -0.291836\n",
       "812     0.945058\n",
       "2528   -0.621757\n",
       "443    -0.486452\n",
       "1857   -0.357326\n",
       "          ...   \n",
       "2294   -0.412313\n",
       "125     0.030053\n",
       "1418    4.482749\n",
       "2193   -0.301721\n",
       "2033    0.046735\n",
       "Name: Rainfall, Length: 518, dtype: float64"
      ]
     },
     "execution_count": 273,
     "metadata": {},
     "output_type": "execute_result"
    }
   ],
   "source": [
    "y_test"
   ]
  },
  {
   "cell_type": "code",
   "execution_count": 274,
   "id": "dd8b1598",
   "metadata": {},
   "outputs": [
    {
     "name": "stdout",
     "output_type": "stream",
     "text": [
      "Train set accuracy:  0.7525854050656173\n",
      "Test set accuracy :  0.4978647085983986\n",
      "mse: 0.6492012052024723\n",
      "root_mean_squared error of is== 0.8057302310342291\n"
     ]
    }
   ],
   "source": [
    "#Accuracy\n",
    "Y_train_predicted = model_decision.predict(X_train)\n",
    "Y_test_predicted = model_decision.predict(X_test)\n",
    "print(\"Train set accuracy: \",r2_score(y_train,Y_train_predicted))\n",
    "print(\"Test set accuracy : \",r2_score(y_test,Y_test_predicted))\n",
    "print(\"mse:\",mean_squared_error(y_test,Y_test_predicted))\n",
    "print('root_mean_squared error of is==',np.sqrt(mean_squared_error(y_test,Y_test_predicted))) "
   ]
  },
  {
   "cell_type": "code",
   "execution_count": null,
   "id": "81b3790f",
   "metadata": {},
   "outputs": [],
   "source": []
  },
  {
   "cell_type": "code",
   "execution_count": null,
   "id": "f800d450",
   "metadata": {},
   "outputs": [],
   "source": []
  },
  {
   "cell_type": "markdown",
   "id": "9adfd5b8",
   "metadata": {},
   "source": [
    "Gradient Boosting Algorithm"
   ]
  },
  {
   "cell_type": "code",
   "execution_count": 275,
   "id": "92b8afb7",
   "metadata": {},
   "outputs": [
    {
     "data": {
      "text/html": [
       "<style>#sk-container-id-24 {color: black;background-color: white;}#sk-container-id-24 pre{padding: 0;}#sk-container-id-24 div.sk-toggleable {background-color: white;}#sk-container-id-24 label.sk-toggleable__label {cursor: pointer;display: block;width: 100%;margin-bottom: 0;padding: 0.3em;box-sizing: border-box;text-align: center;}#sk-container-id-24 label.sk-toggleable__label-arrow:before {content: \"▸\";float: left;margin-right: 0.25em;color: #696969;}#sk-container-id-24 label.sk-toggleable__label-arrow:hover:before {color: black;}#sk-container-id-24 div.sk-estimator:hover label.sk-toggleable__label-arrow:before {color: black;}#sk-container-id-24 div.sk-toggleable__content {max-height: 0;max-width: 0;overflow: hidden;text-align: left;background-color: #f0f8ff;}#sk-container-id-24 div.sk-toggleable__content pre {margin: 0.2em;color: black;border-radius: 0.25em;background-color: #f0f8ff;}#sk-container-id-24 input.sk-toggleable__control:checked~div.sk-toggleable__content {max-height: 200px;max-width: 100%;overflow: auto;}#sk-container-id-24 input.sk-toggleable__control:checked~label.sk-toggleable__label-arrow:before {content: \"▾\";}#sk-container-id-24 div.sk-estimator input.sk-toggleable__control:checked~label.sk-toggleable__label {background-color: #d4ebff;}#sk-container-id-24 div.sk-label input.sk-toggleable__control:checked~label.sk-toggleable__label {background-color: #d4ebff;}#sk-container-id-24 input.sk-hidden--visually {border: 0;clip: rect(1px 1px 1px 1px);clip: rect(1px, 1px, 1px, 1px);height: 1px;margin: -1px;overflow: hidden;padding: 0;position: absolute;width: 1px;}#sk-container-id-24 div.sk-estimator {font-family: monospace;background-color: #f0f8ff;border: 1px dotted black;border-radius: 0.25em;box-sizing: border-box;margin-bottom: 0.5em;}#sk-container-id-24 div.sk-estimator:hover {background-color: #d4ebff;}#sk-container-id-24 div.sk-parallel-item::after {content: \"\";width: 100%;border-bottom: 1px solid gray;flex-grow: 1;}#sk-container-id-24 div.sk-label:hover label.sk-toggleable__label {background-color: #d4ebff;}#sk-container-id-24 div.sk-serial::before {content: \"\";position: absolute;border-left: 1px solid gray;box-sizing: border-box;top: 0;bottom: 0;left: 50%;z-index: 0;}#sk-container-id-24 div.sk-serial {display: flex;flex-direction: column;align-items: center;background-color: white;padding-right: 0.2em;padding-left: 0.2em;position: relative;}#sk-container-id-24 div.sk-item {position: relative;z-index: 1;}#sk-container-id-24 div.sk-parallel {display: flex;align-items: stretch;justify-content: center;background-color: white;position: relative;}#sk-container-id-24 div.sk-item::before, #sk-container-id-24 div.sk-parallel-item::before {content: \"\";position: absolute;border-left: 1px solid gray;box-sizing: border-box;top: 0;bottom: 0;left: 50%;z-index: -1;}#sk-container-id-24 div.sk-parallel-item {display: flex;flex-direction: column;z-index: 1;position: relative;background-color: white;}#sk-container-id-24 div.sk-parallel-item:first-child::after {align-self: flex-end;width: 50%;}#sk-container-id-24 div.sk-parallel-item:last-child::after {align-self: flex-start;width: 50%;}#sk-container-id-24 div.sk-parallel-item:only-child::after {width: 0;}#sk-container-id-24 div.sk-dashed-wrapped {border: 1px dashed gray;margin: 0 0.4em 0.5em 0.4em;box-sizing: border-box;padding-bottom: 0.4em;background-color: white;}#sk-container-id-24 div.sk-label label {font-family: monospace;font-weight: bold;display: inline-block;line-height: 1.2em;}#sk-container-id-24 div.sk-label-container {text-align: center;}#sk-container-id-24 div.sk-container {/* jupyter's `normalize.less` sets `[hidden] { display: none; }` but bootstrap.min.css set `[hidden] { display: none !important; }` so we also need the `!important` here to be able to override the default hidden behavior on the sphinx rendered scikit-learn.org. See: https://github.com/scikit-learn/scikit-learn/issues/21755 */display: inline-block !important;position: relative;}#sk-container-id-24 div.sk-text-repr-fallback {display: none;}</style><div id=\"sk-container-id-24\" class=\"sk-top-container\"><div class=\"sk-text-repr-fallback\"><pre>GradientBoostingRegressor(loss=&#x27;ls&#x27;, max_depth=4, min_samples_split=5,\n",
       "                          n_estimators=10)</pre><b>In a Jupyter environment, please rerun this cell to show the HTML representation or trust the notebook. <br />On GitHub, the HTML representation is unable to render, please try loading this page with nbviewer.org.</b></div><div class=\"sk-container\" hidden><div class=\"sk-item\"><div class=\"sk-estimator sk-toggleable\"><input class=\"sk-toggleable__control sk-hidden--visually\" id=\"sk-estimator-id-24\" type=\"checkbox\" checked><label for=\"sk-estimator-id-24\" class=\"sk-toggleable__label sk-toggleable__label-arrow\">GradientBoostingRegressor</label><div class=\"sk-toggleable__content\"><pre>GradientBoostingRegressor(loss=&#x27;ls&#x27;, max_depth=4, min_samples_split=5,\n",
       "                          n_estimators=10)</pre></div></div></div></div></div>"
      ],
      "text/plain": [
       "GradientBoostingRegressor(loss='ls', max_depth=4, min_samples_split=5,\n",
       "                          n_estimators=10)"
      ]
     },
     "execution_count": 275,
     "metadata": {},
     "output_type": "execute_result"
    }
   ],
   "source": [
    "from sklearn.ensemble import GradientBoostingRegressor\n",
    "gbr_params = {'n_estimators': 10,'max_depth':4,'min_samples_split': 5,\n",
    "          'learning_rate': 0.1,'loss': 'ls'}\n",
    "model_gradient = GradientBoostingRegressor(**gbr_params)\n",
    "model_gradient.fit(X_train, y_train)"
   ]
  },
  {
   "cell_type": "code",
   "execution_count": 276,
   "id": "e74711df",
   "metadata": {},
   "outputs": [],
   "source": [
    "g_pred=model_gradient.predict(X_test)"
   ]
  },
  {
   "cell_type": "code",
   "execution_count": 277,
   "id": "b42fe5ea",
   "metadata": {},
   "outputs": [
    {
     "name": "stdout",
     "output_type": "stream",
     "text": [
      "Train set accuracy:  0.659445578311141\n",
      "Test set accuracy :  0.4618253823075259\n",
      "mse: 0.6957957673919029\n",
      "root_mean_squared error of is== 0.8341437330531848\n"
     ]
    }
   ],
   "source": [
    "#Accuracy\n",
    "Y_train_predicted = model_gradient.predict(X_train)\n",
    "Y_test_predicted = model_gradient.predict(X_test)\n",
    "print(\"Train set accuracy: \",r2_score(y_train,Y_train_predicted))\n",
    "print(\"Test set accuracy : \",r2_score(y_test,Y_test_predicted))\n",
    "print(\"mse:\",mean_squared_error(y_test,Y_test_predicted))\n",
    "print('root_mean_squared error of is==',np.sqrt(mean_squared_error(y_test,Y_test_predicted))) "
   ]
  },
  {
   "cell_type": "markdown",
   "id": "e8493cd4",
   "metadata": {},
   "source": [
    "Random forest"
   ]
  },
  {
   "cell_type": "code",
   "execution_count": 278,
   "id": "5437d593",
   "metadata": {},
   "outputs": [
    {
     "data": {
      "text/html": [
       "<style>#sk-container-id-25 {color: black;background-color: white;}#sk-container-id-25 pre{padding: 0;}#sk-container-id-25 div.sk-toggleable {background-color: white;}#sk-container-id-25 label.sk-toggleable__label {cursor: pointer;display: block;width: 100%;margin-bottom: 0;padding: 0.3em;box-sizing: border-box;text-align: center;}#sk-container-id-25 label.sk-toggleable__label-arrow:before {content: \"▸\";float: left;margin-right: 0.25em;color: #696969;}#sk-container-id-25 label.sk-toggleable__label-arrow:hover:before {color: black;}#sk-container-id-25 div.sk-estimator:hover label.sk-toggleable__label-arrow:before {color: black;}#sk-container-id-25 div.sk-toggleable__content {max-height: 0;max-width: 0;overflow: hidden;text-align: left;background-color: #f0f8ff;}#sk-container-id-25 div.sk-toggleable__content pre {margin: 0.2em;color: black;border-radius: 0.25em;background-color: #f0f8ff;}#sk-container-id-25 input.sk-toggleable__control:checked~div.sk-toggleable__content {max-height: 200px;max-width: 100%;overflow: auto;}#sk-container-id-25 input.sk-toggleable__control:checked~label.sk-toggleable__label-arrow:before {content: \"▾\";}#sk-container-id-25 div.sk-estimator input.sk-toggleable__control:checked~label.sk-toggleable__label {background-color: #d4ebff;}#sk-container-id-25 div.sk-label input.sk-toggleable__control:checked~label.sk-toggleable__label {background-color: #d4ebff;}#sk-container-id-25 input.sk-hidden--visually {border: 0;clip: rect(1px 1px 1px 1px);clip: rect(1px, 1px, 1px, 1px);height: 1px;margin: -1px;overflow: hidden;padding: 0;position: absolute;width: 1px;}#sk-container-id-25 div.sk-estimator {font-family: monospace;background-color: #f0f8ff;border: 1px dotted black;border-radius: 0.25em;box-sizing: border-box;margin-bottom: 0.5em;}#sk-container-id-25 div.sk-estimator:hover {background-color: #d4ebff;}#sk-container-id-25 div.sk-parallel-item::after {content: \"\";width: 100%;border-bottom: 1px solid gray;flex-grow: 1;}#sk-container-id-25 div.sk-label:hover label.sk-toggleable__label {background-color: #d4ebff;}#sk-container-id-25 div.sk-serial::before {content: \"\";position: absolute;border-left: 1px solid gray;box-sizing: border-box;top: 0;bottom: 0;left: 50%;z-index: 0;}#sk-container-id-25 div.sk-serial {display: flex;flex-direction: column;align-items: center;background-color: white;padding-right: 0.2em;padding-left: 0.2em;position: relative;}#sk-container-id-25 div.sk-item {position: relative;z-index: 1;}#sk-container-id-25 div.sk-parallel {display: flex;align-items: stretch;justify-content: center;background-color: white;position: relative;}#sk-container-id-25 div.sk-item::before, #sk-container-id-25 div.sk-parallel-item::before {content: \"\";position: absolute;border-left: 1px solid gray;box-sizing: border-box;top: 0;bottom: 0;left: 50%;z-index: -1;}#sk-container-id-25 div.sk-parallel-item {display: flex;flex-direction: column;z-index: 1;position: relative;background-color: white;}#sk-container-id-25 div.sk-parallel-item:first-child::after {align-self: flex-end;width: 50%;}#sk-container-id-25 div.sk-parallel-item:last-child::after {align-self: flex-start;width: 50%;}#sk-container-id-25 div.sk-parallel-item:only-child::after {width: 0;}#sk-container-id-25 div.sk-dashed-wrapped {border: 1px dashed gray;margin: 0 0.4em 0.5em 0.4em;box-sizing: border-box;padding-bottom: 0.4em;background-color: white;}#sk-container-id-25 div.sk-label label {font-family: monospace;font-weight: bold;display: inline-block;line-height: 1.2em;}#sk-container-id-25 div.sk-label-container {text-align: center;}#sk-container-id-25 div.sk-container {/* jupyter's `normalize.less` sets `[hidden] { display: none; }` but bootstrap.min.css set `[hidden] { display: none !important; }` so we also need the `!important` here to be able to override the default hidden behavior on the sphinx rendered scikit-learn.org. See: https://github.com/scikit-learn/scikit-learn/issues/21755 */display: inline-block !important;position: relative;}#sk-container-id-25 div.sk-text-repr-fallback {display: none;}</style><div id=\"sk-container-id-25\" class=\"sk-top-container\"><div class=\"sk-text-repr-fallback\"><pre>RandomForestRegressor(n_estimators=10)</pre><b>In a Jupyter environment, please rerun this cell to show the HTML representation or trust the notebook. <br />On GitHub, the HTML representation is unable to render, please try loading this page with nbviewer.org.</b></div><div class=\"sk-container\" hidden><div class=\"sk-item\"><div class=\"sk-estimator sk-toggleable\"><input class=\"sk-toggleable__control sk-hidden--visually\" id=\"sk-estimator-id-25\" type=\"checkbox\" checked><label for=\"sk-estimator-id-25\" class=\"sk-toggleable__label sk-toggleable__label-arrow\">RandomForestRegressor</label><div class=\"sk-toggleable__content\"><pre>RandomForestRegressor(n_estimators=10)</pre></div></div></div></div></div>"
      ],
      "text/plain": [
       "RandomForestRegressor(n_estimators=10)"
      ]
     },
     "execution_count": 278,
     "metadata": {},
     "output_type": "execute_result"
    }
   ],
   "source": [
    "from sklearn.ensemble import RandomForestRegressor\n",
    "model_random = RandomForestRegressor(n_estimators=10)\n",
    "model_random.fit(X_train,y_train)"
   ]
  },
  {
   "cell_type": "code",
   "execution_count": 279,
   "id": "1f8b3f92",
   "metadata": {},
   "outputs": [
    {
     "data": {
      "text/plain": [
       "array([ 0.44270138, -0.45858799, -0.30833191, ..., -0.07559561,\n",
       "        0.13304534, -0.36894096])"
      ]
     },
     "execution_count": 279,
     "metadata": {},
     "output_type": "execute_result"
    }
   ],
   "source": [
    "r_pred = model_random.predict(X_train)\n",
    "r_pred"
   ]
  },
  {
   "cell_type": "code",
   "execution_count": 280,
   "id": "8784667e",
   "metadata": {},
   "outputs": [
    {
     "name": "stdout",
     "output_type": "stream",
     "text": [
      "Train set accuracy:  0.954179393474781\n",
      "Test set accuracy :  0.5273562244147367\n",
      "mse: 0.611072183126026\n",
      "root_mean_squared error of is== 0.7817110611511302\n"
     ]
    }
   ],
   "source": [
    "#Accuracy\n",
    "Y_train_predicted = model_random.predict(X_train)\n",
    "Y_test_predicted = model_random.predict(X_test)\n",
    "print(\"Train set accuracy: \",r2_score(y_train,Y_train_predicted))\n",
    "print(\"Test set accuracy : \",r2_score(y_test,Y_test_predicted))\n",
    "print(\"mse:\",mean_squared_error(y_test,Y_test_predicted))\n",
    "print('root_mean_squared error of is==',np.sqrt(mean_squared_error(y_test,Y_test_predicted))) "
   ]
  },
  {
   "cell_type": "code",
   "execution_count": null,
   "id": "68c4a985",
   "metadata": {},
   "outputs": [],
   "source": []
  },
  {
   "cell_type": "code",
   "execution_count": null,
   "id": "746d2b79",
   "metadata": {},
   "outputs": [],
   "source": []
  },
  {
   "cell_type": "code",
   "execution_count": null,
   "id": "2159f755",
   "metadata": {},
   "outputs": [],
   "source": []
  }
 ],
 "metadata": {
  "kernelspec": {
   "display_name": "Python 3 (ipykernel)",
   "language": "python",
   "name": "python3"
  },
  "language_info": {
   "codemirror_mode": {
    "name": "ipython",
    "version": 3
   },
   "file_extension": ".py",
   "mimetype": "text/x-python",
   "name": "python",
   "nbconvert_exporter": "python",
   "pygments_lexer": "ipython3",
   "version": "3.10.4"
  }
 },
 "nbformat": 4,
 "nbformat_minor": 5
}
